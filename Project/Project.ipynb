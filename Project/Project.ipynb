{
  "cells": [
    {
      "cell_type": "markdown",
      "metadata": {
        "id": "Lx6vZm1fTT5W"
      },
      "source": [
        "Load data from URL, and saving it locally as fileName."
      ]
    },
    {
      "cell_type": "code",
      "execution_count": 1,
      "metadata": {
        "id": "RJXBdQu-TRdW",
        "colab": {
          "base_uri": "https://localhost:8080/"
        },
        "outputId": "be905707-c882-4f76-c0fd-da985985a0e2"
      },
      "outputs": [
        {
          "output_type": "execute_result",
          "data": {
            "text/plain": [
              "('sample_data/beeradvocate.json.gz',\n",
              " <http.client.HTTPMessage at 0x7ac006a08730>)"
            ]
          },
          "metadata": {},
          "execution_count": 1
        }
      ],
      "source": [
        "# Load Data from URL\n",
        "import urllib.request\n",
        "# sample data file from beeradvocate\n",
        "fileName = \"sample_data/beeradvocate.json.gz\"\n",
        "# BeerAdvocate Data\n",
        "urllib.request.urlretrieve(\"https://datarepo.eng.ucsd.edu/mcauley_group/data/beer/beeradvocate.json.gz\", fileName)\n"
      ]
    },
    {
      "cell_type": "markdown",
      "source": [
        "Unzip the compressed file from \".gz\" to uncompressed file as \"beeradvocate.json\", using shutil lib , the steps is done in binary mode\n",
        "Definition: rb = \"read binary\", file opened in binary mode\n",
        "             wb = \"write binary\", file opened in binary mode"
      ],
      "metadata": {
        "id": "Lz2cujHUPGj0"
      }
    },
    {
      "cell_type": "code",
      "execution_count": 2,
      "metadata": {
        "id": "HTV66kM5bqM7",
        "colab": {
          "base_uri": "https://localhost:8080/"
        },
        "outputId": "1ad5d433-07f2-4354-d57a-c85ad867d6ce"
      },
      "outputs": [
        {
          "output_type": "stream",
          "name": "stdout",
          "text": [
            "<gzip _io.BufferedReader name='sample_data/beeradvocate.json.gz' 0x7ac006a08280>\n",
            "<_io.BufferedWriter name='beeradvocate.json'>\n"
          ]
        }
      ],
      "source": [
        "import gzip\n",
        "import shutil\n",
        "\n",
        "with gzip.open('sample_data/beeradvocate.json.gz', 'rb') as file_in:\n",
        "    with open('beeradvocate.json', 'wb') as file_out:\n",
        "        shutil.copyfileobj(file_in, file_out)\n",
        "        print(file_in)\n",
        "        print(file_out)"
      ]
    },
    {
      "cell_type": "markdown",
      "source": [
        "Shows a sample of the first and last 10 extracted user reviews (to show the previous steps also successful."
      ],
      "metadata": {
        "id": "J3l7t83XP6w8"
      }
    },
    {
      "cell_type": "code",
      "execution_count": 3,
      "metadata": {
        "id": "GWlqBd97E-JZ",
        "colab": {
          "base_uri": "https://localhost:8080/"
        },
        "outputId": "e019b0db-947c-43e0-fb9e-5cc1f5675a21"
      },
      "outputs": [
        {
          "output_type": "stream",
          "name": "stdout",
          "text": [
            "{'beer/name': 'Sausa Weizen', 'beer/beerId': '47986', 'beer/brewerId': '10325', 'beer/ABV': '5.00', 'beer/style': 'Hefeweizen', 'review/appearance': '2.5', 'review/aroma': '2', 'review/palate': '1.5', 'review/taste': '1.5', 'review/overall': '1.5', 'review/time': '1234817823', 'review/profileName': 'stcules', 'review/text': 'A lot of foam. But a lot.\\tIn the smell some banana, and then lactic and tart. Not a good start.\\tQuite dark orange in color, with a lively carbonation (now visible, under the foam).\\tAgain tending to lactic sourness.\\tSame for the taste. With some yeast and banana.'}\n",
            "{'beer/name': 'Red Moon', 'beer/beerId': '48213', 'beer/brewerId': '10325', 'beer/ABV': '6.20', 'beer/style': 'English Strong Ale', 'review/appearance': '3', 'review/aroma': '2.5', 'review/palate': '3', 'review/taste': '3', 'review/overall': '3', 'review/time': '1235915097', 'review/profileName': 'stcules', 'review/text': 'Dark red color, light beige foam, average.\\tIn the smell malt and caramel, not really light.\\tAgain malt and caramel in the taste, not bad in the end.\\tMaybe a note of honey in teh back, and a light fruitiness.\\tAverage body.\\tIn the aftertaste a light bitterness, with the malt and red fruit.\\tNothing exceptional, but not bad, drinkable beer.'}\n",
            "{'beer/name': 'Black Horse Black Beer', 'beer/beerId': '48215', 'beer/brewerId': '10325', 'beer/ABV': '6.50', 'beer/style': 'Foreign / Export Stout', 'review/appearance': '3', 'review/aroma': '2.5', 'review/palate': '3', 'review/taste': '3', 'review/overall': '3', 'review/time': '1235916604', 'review/profileName': 'stcules', 'review/text': 'Almost totally black. Beige foam, quite compact, not bad.\\tLight smell, just a bit of roast, and some hop. A bit too light.\\tThe taste is light oo, and drinkable, with some malt, roast, hints of coffee.\\tNothing exceptional, but after all drinkable and pleasant.\\tLight to average body.\\tIn the aftertaste some dust, somr roast, hint of caramel, and a bit of bitterness.\\tNo defect, drinkable, not bad.'}\n",
            "{'beer/name': 'Sausa Pils', 'beer/beerId': '47969', 'beer/brewerId': '10325', 'beer/ABV': '5.00', 'beer/style': 'German Pilsener', 'review/appearance': '3.5', 'review/aroma': '3', 'review/palate': '2.5', 'review/taste': '3', 'review/overall': '3', 'review/time': '1234725145', 'review/profileName': 'stcules', 'review/text': 'Golden yellow color. White, compact foam, quite creamy. Good appearance.\\tFresh smell, with good hop. Quite dry, with a good grassy note. Hay. Fresh and pleasant.\\tMore sweet in the mouth, with honey. The hop comes back in the end, and in the aftertaste.\\tNot bad, but a bit too sweet for a pils.\\tIn the end some vanilla and camomile note.\\tIn the aftertaste, too. Though the hop, a bit too sweet.\\tHonest.'}\n",
            "{'beer/name': 'Cauldron DIPA', 'beer/beerId': '64883', 'beer/brewerId': '1075', 'beer/ABV': '7.70', 'beer/style': 'American Double / Imperial IPA', 'review/appearance': '4', 'review/aroma': '4.5', 'review/palate': '4', 'review/taste': '4.5', 'review/overall': '4', 'review/time': '1293735206', 'review/profileName': 'johnmichaelsen', 'review/text': \"According to the website, the style for the Caldera Cauldron changes every year. The current release is a DIPA, which frankly is the only cauldron I'm familiar with (it was an IPA/DIPA the last time I ordered a cauldron at the horsebrass several years back). In any event... at the Horse Brass yesterday.\\t\\tThe beer pours an orange copper color with good head retention and lacing. The nose is all hoppy IPA goodness, showcasing a huge aroma of dry citrus, pine and sandlewood. The flavor profile replicates the nose pretty closely in this West Coast all the way DIPA. This DIPA is not for the faint of heart and is a bit much even for a hophead like myslf. The finish is quite dry and hoppy, and there's barely enough sweet malt to balance and hold up the avalanche of hoppy bitterness in this beer. Mouthfeel is actually fairly light, with a long, persistentely bitter finish. Drinkability is good, with the alcohol barely noticeable in this well crafted beer. Still, this beer is so hugely hoppy/bitter, it's really hard for me to imagine ordering more than a single glass. Regardless, this is a very impressive beer from the folks at Caldera.\"}\n",
            "{'beer/name': 'Caldera Ginger Beer', 'beer/beerId': '52159', 'beer/brewerId': '1075', 'beer/ABV': '4.70', 'beer/style': 'Herbed / Spiced Beer', 'review/appearance': '3.5', 'review/aroma': '3.5', 'review/palate': '3', 'review/taste': '3.5', 'review/overall': '3', 'review/time': '1325524659', 'review/profileName': 'oline73', 'review/text': \"Poured from the bottle into a Chimay goblet.\\t\\tAppearance: Pours a slightly cloudy yellow/orange color with a half finger of fluffy white head. The head fades to a small layer on top of the pour.\\t\\tSmell: Very light and crisp. I'm definitely picking up the ginger, but it's not overly powerful. There is a slight sweetness from the malt as well.\\t\\tTaste: Very light and refreshing. The ginger shows up right away and then fades towards the finish of the sip. The finish is malty and bread like. \\t\\tMouthfeel: The body is on the thin side with smooth carbonation and a very dry finish.\\t\\tOverall: This is a light and refreshing beer, but nothing spectacular. The amount of ginger is nice, but I would have liked to have more going on.\"}\n",
            "{'beer/name': 'Caldera Ginger Beer', 'beer/beerId': '52159', 'beer/brewerId': '1075', 'beer/ABV': '4.70', 'beer/style': 'Herbed / Spiced Beer', 'review/appearance': '3.5', 'review/aroma': '3.5', 'review/palate': '4', 'review/taste': '4', 'review/overall': '3.5', 'review/time': '1318991115', 'review/profileName': 'Reidrover', 'review/text': '22 oz bottle from \"Lifesource\" Salem. $3.95 Nice golden clear beer body with a nice sized frothy/creamy white head. Ok aromas..mainlly a bit of ginger speice and some bready malt..simple nice Taste very nice indeed..nice spicy ginger backed with slightly caramel maltiness..simple again but i like . Liked the mouthfeel of this one..very forward carbonation which helps the ginger effect and a lingering ginger in the after taste. Overall a simple ginger brew .I liked it'}\n",
            "{'beer/name': 'Caldera Ginger Beer', 'beer/beerId': '52159', 'beer/brewerId': '1075', 'beer/ABV': '4.70', 'beer/style': 'Herbed / Spiced Beer', 'review/appearance': '3.5', 'review/aroma': '2.5', 'review/palate': '2', 'review/taste': '3.5', 'review/overall': '3', 'review/time': '1306276018', 'review/profileName': 'alpinebryant', 'review/text': 'Bottle says \"Malt beverage brewed with Ginger and ginger added\" Sounds redundant to me, but lets move on.\\t\\tPours a bud light yellow with a tiny white head of small bubbles. The beer is almost as clear as a glass of water with some food coloring in it.\\t\\tAroma of light ginger, a very light malt aroma but primarily odorless on the malt side. I wouldn\\'t be completely surprised if there were some adjuncts in here because of the lack of underlying malt flavors. Taste is of a light adjunct lager with a dosing of ginger. Not surprising there. \\t\\tThis is a light session beer, good for the warmer days of spring / summer. Mouthfeel is extremely light, high carbonation.\\t\\tOverall decent. This would be great if you were drinking beers on draft at the bar with some friends just hanging out. I wouldn\\'t necessarily seek it out though to drink out of a bottle.'}\n",
            "{'beer/name': 'Caldera Ginger Beer', 'beer/beerId': '52159', 'beer/brewerId': '1075', 'beer/ABV': '4.70', 'beer/style': 'Herbed / Spiced Beer', 'review/appearance': '3.5', 'review/aroma': '3', 'review/palate': '3.5', 'review/taste': '4', 'review/overall': '4', 'review/time': '1290454503', 'review/profileName': 'LordAdmNelson', 'review/text': \"I'm not sure why I picked this up... I like ginger, and it was reasonably cheap compared to the other beers I was looking at. Pours a pale golden color with smallish head. Nose is largely uneventful, some ginger in there, a bit of pear, but mainly normal lager. Taste is pretty good, bringing a bit more of the ginger to the fore. MF was a bit fizzy, not terrible though. Easy drinker, I had no problem finishing the bomber. Interesting, but I probably won't get it again.\"}\n",
            "{'beer/name': 'Caldera Ginger Beer', 'beer/beerId': '52159', 'beer/brewerId': '1075', 'beer/ABV': '4.70', 'beer/style': 'Herbed / Spiced Beer', 'review/appearance': '5', 'review/aroma': '3.5', 'review/palate': '4', 'review/taste': '4', 'review/overall': '4.5', 'review/time': '1285632924', 'review/profileName': 'augustgarage', 'review/text': 'Poured from a 22oz bomber into my Drie Fonteinen tumbler. \\t\\tHazy titanium yellow body (which catches the shadows forming a beautiful mysterious gradient) with an incredibly dense pillow of magnolia cream. Heavy persistent head and rich creamy lacing.\\t\\tPale malt, asian pear, and a hint of citrus in the nose. A vaguely tropical lager...\\t\\tTastes very much like a well done APA, with a nice balance of pale malt and low hop bitterness. The ginger adds to the refreshing character, but isn\\'t readily detectable at first (lacks any \"bite\"). Medium-dry finish - very clean and extremely quaffable. I can imagine hibiscus and beets working in small quantities, though I think they omitted those for this version...\\t\\tLight bodied, pillowy, smooth and moderately carbonated.\\t\\tDon\\'t go into this expecting a ginger beer (despite its name) as it has little in common with that spicy soft drink. This is a wonderful session ale though, and worth seeking out if you are a fan of light yet flavorful lagers. Would obviously go perfectly with sushi.'}\n",
            "{'beer/name': \"The Horseman's Ale\", 'beer/beerId': '33061', 'beer/brewerId': '14359', 'beer/ABV': '5.20', 'beer/style': 'Pumpkin Ale', 'review/appearance': '5', 'review/aroma': '5', 'review/palate': '5', 'review/taste': '5', 'review/overall': '5', 'review/time': '1163291143', 'review/profileName': 'NyackNicky', 'review/text': \"My first review, and my first beer at Defiant. This was the best beer I've ever had in my life. It looked beautiful, it smelled awesome, it tasted deliscious, it felt fantastic, and it was amazingly drinkable. I tried a bunch of their beers, but this was absolutely amazing!\"}\n",
            "{'beer/name': \"The Horseman's Ale\", 'beer/beerId': '33061', 'beer/brewerId': '14359', 'beer/ABV': '5.20', 'beer/style': 'Pumpkin Ale', 'review/appearance': '4', 'review/aroma': '4.5', 'review/palate': '5', 'review/taste': '5', 'review/overall': '5', 'review/time': '1162871808', 'review/profileName': 'blitheringidiot', 'review/text': \"Never has a beer struck me in such a way that I knew a 5 / 5 / 5 was worthy in the tast feel and drinkability category. Hands down, the best pumpkin ale I've ever had the pleasure of drinking. Defiant gets an edge here tho' since he pours them DIRECTLY from the tanks. \\t\\tFlavor aspect was an engaging pumpkin pie with a creamy feel and a flavor of vanilla icecream thrown in. Pumpkin beers are allabout the spices usually, which is short sighted. Defiant was all about the feel and flavor.\"}\n",
            "{'beer/name': \"The Horseman's Ale\", 'beer/beerId': '33061', 'beer/brewerId': '14359', 'beer/ABV': '5.20', 'beer/style': 'Pumpkin Ale', 'review/appearance': '4.5', 'review/aroma': '5', 'review/palate': '5', 'review/taste': '4.5', 'review/overall': '5', 'review/time': '1162865640', 'review/profileName': 'PopeDX', 'review/text': \"What a fantastic pumpkin beer! Probably my most favoritestest ever.\\t\\tThe color is somewhere between amber and brown. The slightest head forms upon pouring (the growler was filled right from the conditioning tank with the natural carbonation...I love the lower carbonation though). The aroma is full of fresh-cut pumpkin and cinnamon. The body is chock full of that same fresh pumpkin flavor. It lacks the cloying sweetness prevalent among others. A light hoppiness and round chocolate malt flavors merge perfectly with the pumpkin. The pumpkin and spices are evident without being overpowering. Mouthfeel is very round and thick, especially given the ABV.\\t\\tI'm so confused...my tongue and nose are telling me it's a pumpkin beer, but it's so clean and easy-drinking that there's no way it could be...could there?\\t\\tI could drink this all year long.\\t\\tSpecial thanks to Neil for being a gracious host to Ev, Karen and I while we were up there. What a fantastic place Defiant is, I only wish it were closer. Still, it was worth the trip, and I look forward to making it again. The world needs more places like it, and more people like Neil.\"}\n",
            "{'beer/name': \"The Horseman's Ale\", 'beer/beerId': '33061', 'beer/brewerId': '14359', 'beer/ABV': '5.20', 'beer/style': 'Pumpkin Ale', 'review/appearance': '4', 'review/aroma': '4', 'review/palate': '3.5', 'review/taste': '3', 'review/overall': '3.5', 'review/time': '1162685856', 'review/profileName': 'treehugger02010', 'review/text': \"My buddy got a growler from the Defiant Brewing Company. I poured into a 32 ounze mug (not full). It had a nice strong fruity smell. The appearance was dark and thick, but it wasn't as thick tasting. The taste was pretty good, milder than I thought, and there wasn't any sense of Pumpkin that I got. All in all it was a solid brew. Don't drink and review.\"}\n",
            "{'beer/name': \"The Horseman's Ale\", 'beer/beerId': '33061', 'beer/brewerId': '14359', 'beer/ABV': '5.20', 'beer/style': 'Pumpkin Ale', 'review/appearance': '3.5', 'review/aroma': '4', 'review/palate': '4', 'review/taste': '4', 'review/overall': '5', 'review/time': '1162684892', 'review/profileName': 'maddogruss', 'review/text': \"If you're looking for a quality beer right along the New York-New Jersey border, the Defiant Brewing Company is where you want to go. My first visit there, I tried this ale and was very impressed. I took one of m,y friends here and converted him to a beer drinker with this beer.\\t\\tAppearance: Beautifully amber, however the steward seems to be the only person to be able to get a decent head for the beer. Out of the tap, the head is fair and exceptional; out of the growler, it slowly rises after a ferw seconds.\\t\\tSmell: Good aroma, smells like pumpkin pie (so, Thanksgiving fans, this is a beer for you).\\t\\tTaste: Once again, tastes like pumpkin pie with all the spices. Not very hoppy.\\t\\tMouthfeel: Perfect feel. Not too thick and it doesn't taste like water. Perfect beer.\\t\\tDrinkability: Do not recommend drinking this beer very speedily, but slowly, enjoying this beer is the way to go. Good for hanging out and chilling with friends.\"}\n",
            "{'beer/name': \"The Horseman's Ale\", 'beer/beerId': '33061', 'beer/brewerId': '14359', 'beer/ABV': '5.20', 'beer/style': 'Pumpkin Ale', 'review/appearance': '2.5', 'review/aroma': '5', 'review/palate': '2', 'review/taste': '4', 'review/overall': '4', 'review/time': '1161048566', 'review/profileName': 'yelterdow', 'review/text': \"Growler fill from the long-awaited Defiant Brewery, and I couldn't be more thrilled that a twenty minute hike is all that's needed for some great brews from the accomplished Neill Acer. This one was first sampled before the Iron Maiden concert along with EPseja and friends, nothing like tailgating in the parking with four growlers in tow. This one is from last night, sealed tightly in the fridge.\\t\\tAppearance- Even on a rough pour, the head barely nudges its way to the surface. A bubbly o-ring of suds lines the outside edge of the beer, popping sporadically over several minutes. The color is a deep, reddish chestnut that showcases some of the malts and I'm sure the pumpkin puree. On tap, this looked a lot nicer...\\t\\tSmell- This is a wonderful example of how a pumpkin ale should express itself... the nose is dominated by a sweet, rich, baked pumpkin brownie (if such a thing exists) that smells more like food than a beer. The ingredients are in superb balance, with a cookie and cake-like character that showcases the spices eloquently and seamlessly. WAY up there at the top of my personal list of pumpkin ales.\\t\\tTaste- Bravo. Bready and full, this ale is Autumn in a beverage. Spiced just right, the Fuggles hops lingering in the background... it's so perfect for this time of year, with the leaves changing and the temperature dropping. No cloying sweetness here, just true pumpkin pie flavors and a balanced delivery.\\t\\tMouthfeel/Drinkability- Much thinner than on tap... this beer shines fresh from the tank. Great drinkability points, as this can be sessioned until next weekend with no complaints. My first beer from Defiant, I look forward to all of Neill's upcoming brews.\"}\n",
            "{'beer/name': \"The Horseman's Ale\", 'beer/beerId': '33061', 'beer/brewerId': '14359', 'beer/ABV': '5.20', 'beer/style': 'Pumpkin Ale', 'review/appearance': '3', 'review/aroma': '3.5', 'review/palate': '3.5', 'review/taste': '4', 'review/overall': '4.5', 'review/time': '1160702513', 'review/profileName': 'TongoRad', 'review/text': 'This was served from a growler and I suspect a bit of carbonation was lost in the process so for this review I am not going to put much stock in appearances, though it must be mentioned. The color is a hazy chestnut-brown with a wisp of tan foam on top. Swirling adds a touch more head.\\t\\tAroma is maybe too mellow yet quite suggestive of the season. I get more apples than pumpkin, though that is present if you search for it, and a hint of spices. Definitely not overdone- so a plus in my book for that.\\t\\tThe palate is where it gets interesting. Pumpkin and some toasty/caramel malt jumps to the forefront. The apple quality is more of a cooked apple (like in apple pie) than a raw one- again a nice mellowness there. The finish is lingering with cinnamon and nutmeg and some added cocoa.\\t\\tThe mouthfeel is a bit on the thin side, which could be helped by more carbonation, but that is not a major offender. Bitterness is unobtrusive but exactly where it should be. \\t\\tThe second glass is better than the first- this beer is definitely made for sessioning. I appreciate that as these beers usually tend to be on the cloying side. Nice job, Neill- it just needs a touch of tweaking for next year.'}\n",
            "{'beer/name': \"The Horseman's Ale\", 'beer/beerId': '33061', 'beer/brewerId': '14359', 'beer/ABV': '5.20', 'beer/style': 'Pumpkin Ale', 'review/appearance': '4.5', 'review/aroma': '4.5', 'review/palate': '4.5', 'review/taste': '4.5', 'review/overall': '4', 'review/time': '1160023044', 'review/profileName': 'dherling', 'review/text': \"Ah, the horseman commeth. Cloudy chocolate brown beer with a semi-thick off white head. The nose gives a big apple and cinnamon flavor, hello, it's Applejacks cereal, I shit you not! You also get pumpkin in the nose, but it's not forefront like the apple and spice. When I take my first sip I continue getting apples and cinnamon, but now I get a good amount of fresh pumpkin flavor, with an underlying nutmeg. It all works wonderfully well together, a unique statement, different, big, and satisfying. It goes down warm and lingers, like a cider donut. This is what fall is all about. well done!\"}\n",
            "{'beer/name': \"The Horseman's Ale\", 'beer/beerId': '33061', 'beer/brewerId': '14359', 'beer/ABV': '5.20', 'beer/style': 'Pumpkin Ale', 'review/appearance': '4.5', 'review/aroma': '4.5', 'review/palate': '4.5', 'review/taste': '4.5', 'review/overall': '5', 'review/time': '1160005319', 'review/profileName': 'cbl2', 'review/text': '10/4/2006\\t$7.50 5.20% Fresh on tap. \\t\\tAppearance:\\t\\tAfter a hard pour, this dark brown ale is speckled with ruby, and adorned by a thin film of off-white head that settles rapidly, but leaves an impressive lace behind.\\t\\t\\tAroma:\\t\\tMulled hot apple cider leaps from my goblet, evincing memories of cinnamon, a touch of cocoa, some coffee, and days spent sipping toddies by the fire.\\t\\t\\tTaste/Mouthfeel:\\t\\tSomeone took my apple cider, and dumped a gallon of cappaccino in there! This is sublime, eradicating any preconceived notions that one may have about this style. Notes of pumpkin are present, along with an intense mulled cider sensation, which is highjacked by an intense burst of espresso.\\t\\tNeill\\'s sign proclaims: \"brewed with imported English malted barley, fuggles hops from the UK with an infusion of American Pumpkin\". Regardless, this is phenomenal. Pumpkin ales are usually frowned upon, but this is exceptional, and with the low alcohol, I may finish the growler tonight, just so I can go back for more tomorrow.'}\n",
            "{}\n"
          ]
        }
      ],
      "source": [
        "!head -10 beeradvocate.json\n",
        "!tail -10 beeradvocate.json"
      ]
    },
    {
      "cell_type": "markdown",
      "metadata": {
        "id": "3bw3He_f3Kwv"
      },
      "source": [
        "Loading the data into a Dask Dataframe file \"beeradvocate.json\" using Dask Bag, splitting it into partitions of approximately 1MB each, and prints information about the result to show its dask.bag.    \n",
        "npartitions = showing the number of partitions that the Dask collection is divided into."
      ]
    },
    {
      "cell_type": "code",
      "execution_count": 4,
      "metadata": {
        "id": "KvAI0Wvz3Jmy",
        "colab": {
          "base_uri": "https://localhost:8080/"
        },
        "outputId": "cb394134-c001-4803-afc3-67e4572b2894"
      },
      "outputs": [
        {
          "output_type": "stream",
          "name": "stdout",
          "text": [
            "dask.bag<bag-from-delayed, npartitions=1655>\n"
          ]
        }
      ],
      "source": [
        "from dask import bag as db\n",
        "\n",
        "data_bag = db.read_text('beeradvocate.json', blocksize=\"1MB\")\n",
        "print(data_bag)"
      ]
    },
    {
      "cell_type": "markdown",
      "source": [
        "Print new line , else it will be all in one line, for all 10.\n",
        "Also print only the 9th line"
      ],
      "metadata": {
        "id": "MKm0ucyqQw22"
      }
    },
    {
      "cell_type": "code",
      "execution_count": 5,
      "metadata": {
        "id": "3recZX6V3xAp",
        "colab": {
          "base_uri": "https://localhost:8080/"
        },
        "outputId": "fda69b32-73c5-4b38-cb0c-cdc7a2404f80"
      },
      "outputs": [
        {
          "output_type": "stream",
          "name": "stdout",
          "text": [
            "(\"{'beer/name': 'Sausa Weizen', 'beer/beerId': '47986', 'beer/brewerId': '10325', 'beer/ABV': '5.00', 'beer/style': 'Hefeweizen', 'review/appearance': '2.5', 'review/aroma': '2', 'review/palate': '1.5', 'review/taste': '1.5', 'review/overall': '1.5', 'review/time': '1234817823', 'review/profileName': 'stcules', 'review/text': 'A lot of foam. But a lot.\\\\tIn the smell some banana, and then lactic and tart. Not a good start.\\\\tQuite dark orange in color, with a lively carbonation (now visible, under the foam).\\\\tAgain tending to lactic sourness.\\\\tSame for the taste. With some yeast and banana.'}\\n\", \"{'beer/name': 'Red Moon', 'beer/beerId': '48213', 'beer/brewerId': '10325', 'beer/ABV': '6.20', 'beer/style': 'English Strong Ale', 'review/appearance': '3', 'review/aroma': '2.5', 'review/palate': '3', 'review/taste': '3', 'review/overall': '3', 'review/time': '1235915097', 'review/profileName': 'stcules', 'review/text': 'Dark red color, light beige foam, average.\\\\tIn the smell malt and caramel, not really light.\\\\tAgain malt and caramel in the taste, not bad in the end.\\\\tMaybe a note of honey in teh back, and a light fruitiness.\\\\tAverage body.\\\\tIn the aftertaste a light bitterness, with the malt and red fruit.\\\\tNothing exceptional, but not bad, drinkable beer.'}\\n\", \"{'beer/name': 'Black Horse Black Beer', 'beer/beerId': '48215', 'beer/brewerId': '10325', 'beer/ABV': '6.50', 'beer/style': 'Foreign / Export Stout', 'review/appearance': '3', 'review/aroma': '2.5', 'review/palate': '3', 'review/taste': '3', 'review/overall': '3', 'review/time': '1235916604', 'review/profileName': 'stcules', 'review/text': 'Almost totally black. Beige foam, quite compact, not bad.\\\\tLight smell, just a bit of roast, and some hop. A bit too light.\\\\tThe taste is light oo, and drinkable, with some malt, roast, hints of coffee.\\\\tNothing exceptional, but after all drinkable and pleasant.\\\\tLight to average body.\\\\tIn the aftertaste some dust, somr roast, hint of caramel, and a bit of bitterness.\\\\tNo defect, drinkable, not bad.'}\\n\", \"{'beer/name': 'Sausa Pils', 'beer/beerId': '47969', 'beer/brewerId': '10325', 'beer/ABV': '5.00', 'beer/style': 'German Pilsener', 'review/appearance': '3.5', 'review/aroma': '3', 'review/palate': '2.5', 'review/taste': '3', 'review/overall': '3', 'review/time': '1234725145', 'review/profileName': 'stcules', 'review/text': 'Golden yellow color. White, compact foam, quite creamy. Good appearance.\\\\tFresh smell, with good hop. Quite dry, with a good grassy note. Hay. Fresh and pleasant.\\\\tMore sweet in the mouth, with honey. The hop comes back in the end, and in the aftertaste.\\\\tNot bad, but a bit too sweet for a pils.\\\\tIn the end some vanilla and camomile note.\\\\tIn the aftertaste, too. Though the hop, a bit too sweet.\\\\tHonest.'}\\n\", '{\\'beer/name\\': \\'Cauldron DIPA\\', \\'beer/beerId\\': \\'64883\\', \\'beer/brewerId\\': \\'1075\\', \\'beer/ABV\\': \\'7.70\\', \\'beer/style\\': \\'American Double / Imperial IPA\\', \\'review/appearance\\': \\'4\\', \\'review/aroma\\': \\'4.5\\', \\'review/palate\\': \\'4\\', \\'review/taste\\': \\'4.5\\', \\'review/overall\\': \\'4\\', \\'review/time\\': \\'1293735206\\', \\'review/profileName\\': \\'johnmichaelsen\\', \\'review/text\\': \"According to the website, the style for the Caldera Cauldron changes every year. The current release is a DIPA, which frankly is the only cauldron I\\'m familiar with (it was an IPA/DIPA the last time I ordered a cauldron at the horsebrass several years back). In any event... at the Horse Brass yesterday.\\\\t\\\\tThe beer pours an orange copper color with good head retention and lacing. The nose is all hoppy IPA goodness, showcasing a huge aroma of dry citrus, pine and sandlewood. The flavor profile replicates the nose pretty closely in this West Coast all the way DIPA. This DIPA is not for the faint of heart and is a bit much even for a hophead like myslf. The finish is quite dry and hoppy, and there\\'s barely enough sweet malt to balance and hold up the avalanche of hoppy bitterness in this beer. Mouthfeel is actually fairly light, with a long, persistentely bitter finish. Drinkability is good, with the alcohol barely noticeable in this well crafted beer. Still, this beer is so hugely hoppy/bitter, it\\'s really hard for me to imagine ordering more than a single glass. Regardless, this is a very impressive beer from the folks at Caldera.\"}\\n')\n",
            "{'beer/name': 'Sausa Weizen', 'beer/beerId': '47986', 'beer/brewerId': '10325', 'beer/ABV': '5.00', 'beer/style': 'Hefeweizen', 'review/appearance': '2.5', 'review/aroma': '2', 'review/palate': '1.5', 'review/taste': '1.5', 'review/overall': '1.5', 'review/time': '1234817823', 'review/profileName': 'stcules', 'review/text': 'A lot of foam. But a lot.\\tIn the smell some banana, and then lactic and tart. Not a good start.\\tQuite dark orange in color, with a lively carbonation (now visible, under the foam).\\tAgain tending to lactic sourness.\\tSame for the taste. With some yeast and banana.'}\n",
            "\n",
            "{'beer/name': 'Red Moon', 'beer/beerId': '48213', 'beer/brewerId': '10325', 'beer/ABV': '6.20', 'beer/style': 'English Strong Ale', 'review/appearance': '3', 'review/aroma': '2.5', 'review/palate': '3', 'review/taste': '3', 'review/overall': '3', 'review/time': '1235915097', 'review/profileName': 'stcules', 'review/text': 'Dark red color, light beige foam, average.\\tIn the smell malt and caramel, not really light.\\tAgain malt and caramel in the taste, not bad in the end.\\tMaybe a note of honey in teh back, and a light fruitiness.\\tAverage body.\\tIn the aftertaste a light bitterness, with the malt and red fruit.\\tNothing exceptional, but not bad, drinkable beer.'}\n",
            "\n",
            "{'beer/name': 'Black Horse Black Beer', 'beer/beerId': '48215', 'beer/brewerId': '10325', 'beer/ABV': '6.50', 'beer/style': 'Foreign / Export Stout', 'review/appearance': '3', 'review/aroma': '2.5', 'review/palate': '3', 'review/taste': '3', 'review/overall': '3', 'review/time': '1235916604', 'review/profileName': 'stcules', 'review/text': 'Almost totally black. Beige foam, quite compact, not bad.\\tLight smell, just a bit of roast, and some hop. A bit too light.\\tThe taste is light oo, and drinkable, with some malt, roast, hints of coffee.\\tNothing exceptional, but after all drinkable and pleasant.\\tLight to average body.\\tIn the aftertaste some dust, somr roast, hint of caramel, and a bit of bitterness.\\tNo defect, drinkable, not bad.'}\n",
            "\n",
            "{'beer/name': 'Sausa Pils', 'beer/beerId': '47969', 'beer/brewerId': '10325', 'beer/ABV': '5.00', 'beer/style': 'German Pilsener', 'review/appearance': '3.5', 'review/aroma': '3', 'review/palate': '2.5', 'review/taste': '3', 'review/overall': '3', 'review/time': '1234725145', 'review/profileName': 'stcules', 'review/text': 'Golden yellow color. White, compact foam, quite creamy. Good appearance.\\tFresh smell, with good hop. Quite dry, with a good grassy note. Hay. Fresh and pleasant.\\tMore sweet in the mouth, with honey. The hop comes back in the end, and in the aftertaste.\\tNot bad, but a bit too sweet for a pils.\\tIn the end some vanilla and camomile note.\\tIn the aftertaste, too. Though the hop, a bit too sweet.\\tHonest.'}\n",
            "\n",
            "{'beer/name': 'Cauldron DIPA', 'beer/beerId': '64883', 'beer/brewerId': '1075', 'beer/ABV': '7.70', 'beer/style': 'American Double / Imperial IPA', 'review/appearance': '4', 'review/aroma': '4.5', 'review/palate': '4', 'review/taste': '4.5', 'review/overall': '4', 'review/time': '1293735206', 'review/profileName': 'johnmichaelsen', 'review/text': \"According to the website, the style for the Caldera Cauldron changes every year. The current release is a DIPA, which frankly is the only cauldron I'm familiar with (it was an IPA/DIPA the last time I ordered a cauldron at the horsebrass several years back). In any event... at the Horse Brass yesterday.\\t\\tThe beer pours an orange copper color with good head retention and lacing. The nose is all hoppy IPA goodness, showcasing a huge aroma of dry citrus, pine and sandlewood. The flavor profile replicates the nose pretty closely in this West Coast all the way DIPA. This DIPA is not for the faint of heart and is a bit much even for a hophead like myslf. The finish is quite dry and hoppy, and there's barely enough sweet malt to balance and hold up the avalanche of hoppy bitterness in this beer. Mouthfeel is actually fairly light, with a long, persistentely bitter finish. Drinkability is good, with the alcohol barely noticeable in this well crafted beer. Still, this beer is so hugely hoppy/bitter, it's really hard for me to imagine ordering more than a single glass. Regardless, this is a very impressive beer from the folks at Caldera.\"}\n",
            "\n",
            "\n",
            "{'beer/name': 'Cauldron DIPA', 'beer/beerId': '64883', 'beer/brewerId': '1075', 'beer/ABV': '7.70', 'beer/style': 'American Double / Imperial IPA', 'review/appearance': '4', 'review/aroma': '4.5', 'review/palate': '4', 'review/taste': '4.5', 'review/overall': '4', 'review/time': '1293735206', 'review/profileName': 'johnmichaelsen', 'review/text': \"According to the website, the style for the Caldera Cauldron changes every year. The current release is a DIPA, which frankly is the only cauldron I'm familiar with (it was an IPA/DIPA the last time I ordered a cauldron at the horsebrass several years back). In any event... at the Horse Brass yesterday.\\t\\tThe beer pours an orange copper color with good head retention and lacing. The nose is all hoppy IPA goodness, showcasing a huge aroma of dry citrus, pine and sandlewood. The flavor profile replicates the nose pretty closely in this West Coast all the way DIPA. This DIPA is not for the faint of heart and is a bit much even for a hophead like myslf. The finish is quite dry and hoppy, and there's barely enough sweet malt to balance and hold up the avalanche of hoppy bitterness in this beer. Mouthfeel is actually fairly light, with a long, persistentely bitter finish. Drinkability is good, with the alcohol barely noticeable in this well crafted beer. Still, this beer is so hugely hoppy/bitter, it's really hard for me to imagine ordering more than a single glass. Regardless, this is a very impressive beer from the folks at Caldera.\"}\n",
            "\n"
          ]
        }
      ],
      "source": [
        "first_data = data_bag.take(5)\n",
        "print(first_data)\n",
        "print(\"\\n\".join(first_data))\n",
        "print(\"\\n\", end=\"\")\n",
        "print(first_data[4])"
      ]
    },
    {
      "cell_type": "markdown",
      "source": [
        "Read the file \"beeradvocate.json\", replacing single quotes with double quotes in each line, converts the JSON data into a new file named \"beeradvocate.jsonlines\" using the JSONLines format.  \n",
        "Note - Invalid line is ignore (such as missing comma, etc)"
      ],
      "metadata": {
        "id": "hgLqnb8cRQ8Q"
      }
    },
    {
      "cell_type": "code",
      "execution_count": 6,
      "metadata": {
        "id": "9XMoV8mr8j-k",
        "colab": {
          "base_uri": "https://localhost:8080/"
        },
        "outputId": "87d4d13e-85f1-4e9f-c2f3-706a9bc8afa0"
      },
      "outputs": [
        {
          "output_type": "stream",
          "name": "stdout",
          "text": [
            "Collecting jsonlines\n",
            "  Downloading jsonlines-4.0.0-py3-none-any.whl (8.7 kB)\n",
            "Requirement already satisfied: attrs>=19.2.0 in /usr/local/lib/python3.10/dist-packages (from jsonlines) (23.2.0)\n",
            "Installing collected packages: jsonlines\n",
            "Successfully installed jsonlines-4.0.0\n"
          ]
        }
      ],
      "source": [
        "!pip install jsonlines\n",
        "import jsonlines\n",
        "import json\n",
        "with open('beeradvocate.json', 'r') as input_file:\n",
        "    with jsonlines.open(\"beeradvocate.jsonlines\", \"w\") as output_file:\n",
        "        for line in input_file:\n",
        "            try:\n",
        "                line = line.replace(\"'\", '\"')\n",
        "                data = json.loads(line)\n",
        "                output_file.write(data)\n",
        "            except json.JSONDecodeError:\n",
        "                continue"
      ]
    },
    {
      "cell_type": "markdown",
      "source": [
        "Print the first and last 10 lines to see if previous step was successful."
      ],
      "metadata": {
        "id": "U6OkE0VsR7qy"
      }
    },
    {
      "cell_type": "code",
      "execution_count": 7,
      "metadata": {
        "id": "dCKqX9TsEys4",
        "colab": {
          "base_uri": "https://localhost:8080/"
        },
        "outputId": "13111719-ceed-4da8-dff6-fdb116f647be"
      },
      "outputs": [
        {
          "output_type": "stream",
          "name": "stdout",
          "text": [
            "{\"beer/name\": \"Sausa Weizen\", \"beer/beerId\": \"47986\", \"beer/brewerId\": \"10325\", \"beer/ABV\": \"5.00\", \"beer/style\": \"Hefeweizen\", \"review/appearance\": \"2.5\", \"review/aroma\": \"2\", \"review/palate\": \"1.5\", \"review/taste\": \"1.5\", \"review/overall\": \"1.5\", \"review/time\": \"1234817823\", \"review/profileName\": \"stcules\", \"review/text\": \"A lot of foam. But a lot.\\tIn the smell some banana, and then lactic and tart. Not a good start.\\tQuite dark orange in color, with a lively carbonation (now visible, under the foam).\\tAgain tending to lactic sourness.\\tSame for the taste. With some yeast and banana.\"}\n",
            "{\"beer/name\": \"Red Moon\", \"beer/beerId\": \"48213\", \"beer/brewerId\": \"10325\", \"beer/ABV\": \"6.20\", \"beer/style\": \"English Strong Ale\", \"review/appearance\": \"3\", \"review/aroma\": \"2.5\", \"review/palate\": \"3\", \"review/taste\": \"3\", \"review/overall\": \"3\", \"review/time\": \"1235915097\", \"review/profileName\": \"stcules\", \"review/text\": \"Dark red color, light beige foam, average.\\tIn the smell malt and caramel, not really light.\\tAgain malt and caramel in the taste, not bad in the end.\\tMaybe a note of honey in teh back, and a light fruitiness.\\tAverage body.\\tIn the aftertaste a light bitterness, with the malt and red fruit.\\tNothing exceptional, but not bad, drinkable beer.\"}\n",
            "{\"beer/name\": \"Black Horse Black Beer\", \"beer/beerId\": \"48215\", \"beer/brewerId\": \"10325\", \"beer/ABV\": \"6.50\", \"beer/style\": \"Foreign / Export Stout\", \"review/appearance\": \"3\", \"review/aroma\": \"2.5\", \"review/palate\": \"3\", \"review/taste\": \"3\", \"review/overall\": \"3\", \"review/time\": \"1235916604\", \"review/profileName\": \"stcules\", \"review/text\": \"Almost totally black. Beige foam, quite compact, not bad.\\tLight smell, just a bit of roast, and some hop. A bit too light.\\tThe taste is light oo, and drinkable, with some malt, roast, hints of coffee.\\tNothing exceptional, but after all drinkable and pleasant.\\tLight to average body.\\tIn the aftertaste some dust, somr roast, hint of caramel, and a bit of bitterness.\\tNo defect, drinkable, not bad.\"}\n",
            "{\"beer/name\": \"Sausa Pils\", \"beer/beerId\": \"47969\", \"beer/brewerId\": \"10325\", \"beer/ABV\": \"5.00\", \"beer/style\": \"German Pilsener\", \"review/appearance\": \"3.5\", \"review/aroma\": \"3\", \"review/palate\": \"2.5\", \"review/taste\": \"3\", \"review/overall\": \"3\", \"review/time\": \"1234725145\", \"review/profileName\": \"stcules\", \"review/text\": \"Golden yellow color. White, compact foam, quite creamy. Good appearance.\\tFresh smell, with good hop. Quite dry, with a good grassy note. Hay. Fresh and pleasant.\\tMore sweet in the mouth, with honey. The hop comes back in the end, and in the aftertaste.\\tNot bad, but a bit too sweet for a pils.\\tIn the end some vanilla and camomile note.\\tIn the aftertaste, too. Though the hop, a bit too sweet.\\tHonest.\"}\n",
            "{\"beer/name\": \"Caldera Ginger Beer\", \"beer/beerId\": \"52159\", \"beer/brewerId\": \"1075\", \"beer/ABV\": \"4.70\", \"beer/style\": \"Herbed / Spiced Beer\", \"review/appearance\": \"4\", \"review/aroma\": \"4\", \"review/palate\": \"3.5\", \"review/taste\": \"4\", \"review/overall\": \"4\", \"review/time\": \"1277557990\", \"review/profileName\": \"rawthar\", \"review/text\": \"Notes from 6/24\\t\\tA: Bright golden glowing beer in a moment of clarity with a lively white head of feathery fluff\\t\\tS: The ginger is definitely there, or am I smelling my Indian dinner? Almost cake-like in its malt aroma, sharply bready with a slight edge of sweetness\\t\\tT: Nice clear malty throat taste, reminds me of strands of complex sugars and grains, ginger is more subtle than I expected, more of an undertone than a backbone\\t\\tM: A refreshing light beer feel, like a pilsner or summer ale\\t\\tD: If this was a sixer instead of a double-deuce, I could see this being a fine picnic pounder\\t\\tOverall, pretty impressed for the particular style\"}\n",
            "{\"beer/name\": \"Caldera Oatmeal Stout\", \"beer/beerId\": \"10789\", \"beer/brewerId\": \"1075\", \"beer/ABV\": \"7.20\", \"beer/style\": \"Oatmeal Stout\", \"review/appearance\": \"2.5\", \"review/aroma\": \"1.5\", \"review/palate\": \"2.5\", \"review/taste\": \"2\", \"review/overall\": \"2\", \"review/time\": \"1103502339\", \"review/profileName\": \"RedDiamond\", \"review/text\": \"Caldera presents yet another circumstance where the brewery does not operate a brewpub, doesnt bottle their beers, and is located 300 miles from my home. To review their beers I traveled to their hometown of Ashland, OR and drank at the Ashland Creek Bar and Grill. This may have been a mistake. \\t\\t\\tThough I had other reasons to visit Ashland, its disappointing (to say the least) to travel 300 miles and be served a spoiled beer. Both the Oatmeal Stout and Ashland Amber were of poor quality at the Ashland Creek Bar and Grill. In the case of the Oatmeal Stout, a nice measure of cream and a wayward thread of mint were marred by a sulfuric smell and likely bacterial infection. Though I cant say for certain, my best guess is that the house tap lines were something other than sanitized. \\t\\t\\tI will attempt to revisit and re-evaluate this beer. But for the time being, its important to ask a pertinent question about quality control. Caldera is a 10 bbl microbrewery in a small town. How much responsibility do they have towards assuring that taps serving their product in their hometown are kept reasonably clean and free of bacterial encroachment? My answer to this question is that the brewery does have some responsibility to assure quality pours in its own hometown. This is especially so when they operate no pub of their own. Not only does this effort protect the consumer from being served a spoiled beer, but the enforcement of quality control measures at the point of consumption simply makes good business sense. \\t\\t\\tTill then, theres nothing I really care say about this beer other than to wish whoever pursues it greater luck than I had at Ashland Creek.\"}\n",
            "{\"beer/name\": \"Rauch Ür Bock\", \"beer/beerId\": \"58046\", \"beer/brewerId\": \"1075\", \"beer/ABV\": \"7.40\", \"beer/style\": \"Rauchbier\", \"review/appearance\": \"3\", \"review/aroma\": \"4.5\", \"review/palate\": \"4\", \"review/taste\": \"4.5\", \"review/overall\": \"4.5\", \"review/time\": \"1325478004\", \"review/profileName\": \"UCLABrewN84\", \"review/text\": \"Pours a murky light brown with a 1 inch fizzy tan head that settles to a film on the top of the beer. Small dots of lace slowly drip back into the remaining beer on the drink down. Smell is of smoked meat, smoked cheese, campfire smoke, etc. Taste is of smoked meat/cheese, campfire smoke, wood, and a slight cocoa/coffee flavor on the finish. The aftertaste is also cocoa/coffee with just a hint of the smoke flavors. This beer has a crisp level of carbonation with a bubbly mouthfeel. Overall this is a very good rauchbier from Caldera that has a bit of a different flavor than German rauchbiers.\"}\n",
            "{\"beer/name\": \"Rauch Ür Bock\", \"beer/beerId\": \"58046\", \"beer/brewerId\": \"1075\", \"beer/ABV\": \"7.40\", \"beer/style\": \"Rauchbier\", \"review/appearance\": \"4\", \"review/aroma\": \"4\", \"review/palate\": \"3\", \"review/taste\": \"4\", \"review/overall\": \"4\", \"review/time\": \"1325360812\", \"review/profileName\": \"zaphodchak\", \"review/text\": \"Faint sudsy head with some with some dissipating fine surface. Light ruddy brown. Some lace.\\t\\tSmokiness in the nose along with pickling vinegar (faint), and some slightly musty malt.\\t\\tPlenty of bitter, slightly tangy, tannic beech smoke. Traces of sweet toffee on the finish.\\t\\tFeel is standard, smooth, but went flat quite fast.\"}\n",
            "{\"beer/name\": \"Rauch Ür Bock\", \"beer/beerId\": \"58046\", \"beer/brewerId\": \"1075\", \"beer/ABV\": \"7.40\", \"beer/style\": \"Rauchbier\", \"review/appearance\": \"4\", \"review/aroma\": \"4.5\", \"review/palate\": \"3.5\", \"review/taste\": \"4\", \"review/overall\": \"4\", \"review/time\": \"1322506304\", \"review/profileName\": \"Tilley4\", \"review/text\": \"A new arrival to the West TN area... \\t\\tPours quite a bit lighter than I was expecting. Almost like a brown ale? Good head retention though...\\t\\tSmoky bacon aromas upfront mesh with a sweet maltiness... This is definitely very smoky but not overpoweringly so... Its subtle at times and powerful at others on the nose... Like being in a smokehouse after the meat has already been removed... Very interesting...\\t\\tSweet caramel malts surprise me as I thought the smoke would hit hard right off the bat... The smokiness here is beautifully done... Not a smoke bomb but rather the smoked meat flavors run parallel to the sweetness darting in and out, here and there...\\t\\tVery good example from Caldera here. Excellent use of the smoke with its subtleties...\"}\n",
            "{\"beer/name\": \"Rauch Ür Bock\", \"beer/beerId\": \"58046\", \"beer/brewerId\": \"1075\", \"beer/ABV\": \"7.40\", \"beer/style\": \"Rauchbier\", \"review/appearance\": \"4\", \"review/aroma\": \"5\", \"review/palate\": \"4\", \"review/taste\": \"4\", \"review/overall\": \"4.5\", \"review/time\": \"1318289482\", \"review/profileName\": \"bashiba\", \"review/text\": \"Poured a slightly cloudy deep amber/red color with a thin soap ring of head.\\t\\tThe smell is amazing, big bacony smoked pork Rauch goodness.\\t\\tThe taste follows the flavors nicely with a big smoked malt flavor with a nice bit of underlying sweetness, very pork like and very flavorful. Has a nice light bitterness in the finish that helps even it out very well.\\t\\tThe mouthfeel is very slick and oily.\\t\\tGreat Rauchbier!\"}\n",
            "{\"beer/name\": \"Bock\", \"beer/beerId\": \"36424\", \"beer/brewerId\": \"14359\", \"beer/ABV\": \"\", \"beer/style\": \"Bock\", \"review/appearance\": \"3\", \"review/aroma\": \"4\", \"review/palate\": \"3\", \"review/taste\": \"4\", \"review/overall\": \"4.5\", \"review/time\": \"1177039998\", \"review/profileName\": \"dherling\", \"review/text\": \"Had this on cask at the new and improved Blind Tiger ale house. Welcome back boys. Poured out a dark opaque brown with no head and no carbonation. Nose was slightly woody, good slightly toasted, slightly smokey malt. Taste had some alcohol to it, but mostly it was good dark malting, again slightly woody, slightly toasted, a hint of smoke. Had a fairly light body, no carbonation, and a clean finish. Very very dirnkable.\"}\n",
            "{\"beer/name\": \"Four Horsemen #4 War\", \"beer/beerId\": \"43989\", \"beer/brewerId\": \"14359\", \"beer/ABV\": \"10.20\", \"beer/style\": \"American Double / Imperial Stout\", \"review/appearance\": \"4.5\", \"review/aroma\": \"4\", \"review/palate\": \"3\", \"review/taste\": \"4.5\", \"review/overall\": \"4\", \"review/time\": \"1217134856\", \"review/profileName\": \"aerozeppl\", \"review/text\": \"Had this at the brewery. From a caged and corked 750 with no label.\\t\\tA: Jet black with a nice billowy mocha head. Some spotty lacing.\\t\\tS: Not that much of a nose. Hints of roasted grains, some chocolate, and some roasted meat. They used some rauch malt in this one and it did give it a little something different.\\t\\tT: Typical roasty stout with hints of chocolate. What separates this from others is the use of the rauch malt. Gave it a little bit more complexity.\\t\\tM: Definately the week point for this beer. Way too carbonated especially for the style.\\t\\tD: Only had a 6 oz pour or so but I definitely could have had more. The carbonation hurt it a little but if they can solve that they have a winner on their hands.\"}\n",
            "{\"beer/name\": \"2007 Resolution #1\", \"beer/beerId\": \"34405\", \"beer/brewerId\": \"14359\", \"beer/ABV\": \"7.40\", \"beer/style\": \"Belgian Strong Pale Ale\", \"review/appearance\": \"4\", \"review/aroma\": \"4\", \"review/palate\": \"4\", \"review/taste\": \"4\", \"review/overall\": \"4\", \"review/time\": \"1263965669\", \"review/profileName\": \"ClockworkOrange\", \"review/text\": \"An unlabeled corked 750ml bottle given to me by Neill Acer back in the June of 2007 during a trip to the brewery with BeerBeing. Uncorked and poured into my tumbler. The ale appears a hazed bright golden yellow color with about a finger of off white foam. Nose and flavors consist of fruits such as apples, grapes, and orange peel, spicy, peppery yeast, white sugar, mild vinegar notes. Decent medium body with light yet prickly carbonation. Slightly warming, but quite drinkable. Thanks Neill.\"}\n",
            "{\"beer/name\": \"2007 Resolution #1\", \"beer/beerId\": \"34405\", \"beer/brewerId\": \"14359\", \"beer/ABV\": \"7.40\", \"beer/style\": \"Belgian Strong Pale Ale\", \"review/appearance\": \"4\", \"review/aroma\": \"4.5\", \"review/palate\": \"4\", \"review/taste\": \"4.5\", \"review/overall\": \"4.5\", \"review/time\": \"1171075836\", \"review/profileName\": \"dherling\", \"review/text\": \"Poured out a golden brown with a bubbly white head. Nice spicy nose, with some citrus like sweetness, yeast, and belgian candi. The taste was lovely, like a Belgian Imperial wit or something. Nice yeasty spice, orangey, citrusy sweetness, some tempered alcohol, and an overall well balanced beer. Has a good mouthfeel, a bit crisp, a bit creamy. Very drinkable.\"}\n",
            "{\"beer/name\": \"Big Thumper Ale\", \"beer/beerId\": \"34215\", \"beer/brewerId\": \"14359\", \"beer/ABV\": \"5.80\", \"beer/style\": \"Extra Special / Strong Bitter (ESB)\", \"review/appearance\": \"3\", \"review/aroma\": \"4\", \"review/palate\": \"4\", \"review/taste\": \"4.5\", \"review/overall\": \"4.5\", \"review/time\": \"1167357151\", \"review/profileName\": \"TongoRad\", \"review/text\": \"Similar to the Little Thumper, but more of a cohesive beer, IMO. Lots of toasty malt, more of the fruit (fresh fig, persimmon, berries) and those wonderful grassy/floral goldings hops. The mouthfeel is luscious, and the bitterness is just about as high as it could be pushed before really taking over. \\t\\tI got a soda keg fill of this beer for a party so I can definitely attest to the drinkability. These babies went down eeeasy- glad I got it!\"}\n",
            "{\"beer/name\": \"Big Thumper Ale\", \"beer/beerId\": \"34215\", \"beer/brewerId\": \"14359\", \"beer/ABV\": \"5.80\", \"beer/style\": \"Extra Special / Strong Bitter (ESB)\", \"review/appearance\": \"4\", \"review/aroma\": \"4\", \"review/palate\": \"4\", \"review/taste\": \"4\", \"review/overall\": \"4.5\", \"review/time\": \"1166930040\", \"review/profileName\": \"dherling\", \"review/text\": \"Just read reviews for Magic Hat #9. Poured out a golden orange color, foamy off white head, fairly clear. The nose had some nice malt and spicy hopness, but had overwhelming apricot. The taste echoed the nose, apricot everywhere. Finished clean and tasty, great sessioner.\"}\n",
            "{\"beer/name\": \"Big Thumper Ale\", \"beer/beerId\": \"34215\", \"beer/brewerId\": \"14359\", \"beer/ABV\": \"5.80\", \"beer/style\": \"Extra Special / Strong Bitter (ESB)\", \"review/appearance\": \"3.5\", \"review/aroma\": \"3.5\", \"review/palate\": \"3.5\", \"review/taste\": \"3.5\", \"review/overall\": \"3.5\", \"review/time\": \"1165710255\", \"review/profileName\": \"tgbljb\", \"review/text\": \"Enjoyed direct from the tank at the breweery.\\tServed as a hazy amber colored beer with modest white head. Little retention.\\tSmell is a nice combination of bready malt and grassy hops.\\tTaste is also a bice combination of the malt and hops, but the hops seem a bit too strong.\\tFinish is long and bitter in the outh.\\tA nice beer that was good, but my least favorite of the 4 I tried at the brewery.\"}\n",
            "{\"beer/name\": \"Bear Mountain Ale\", \"beer/beerId\": \"62147\", \"beer/brewerId\": \"14359\", \"beer/ABV\": \"8.00\", \"beer/style\": \"Belgian IPA\", \"review/appearance\": \"3\", \"review/aroma\": \"2.5\", \"review/palate\": \"2\", \"review/taste\": \"2.5\", \"review/overall\": \"2\", \"review/time\": \"1295399777\", \"review/profileName\": \"Buddha22\", \"review/text\": \"A: A good golden color with nice head retention that lasts throughout.\\t\\tS: The smell is decent with nice hop aromas, with some fruit aromas, but the multiple yeast strains overpower the rest of the smell.\\t\\tT: I could not get into this beer at all. The taste is overly bitter with little else going on. The little flavors I get are on the earthy side and they are not very kind to the tongue. \\t\\tD: This beer is unfortunately hard to drink, the aftertaste is rather difficult to get over and after a few sips it is not easily drinkable.\"}\n",
            "{\"beer/name\": \"Irish Amber\", \"beer/beerId\": \"41749\", \"beer/brewerId\": \"14359\", \"beer/ABV\": \"5.20\", \"beer/style\": \"Irish Red Ale\", \"review/appearance\": \"4\", \"review/aroma\": \"3.5\", \"review/palate\": \"4\", \"review/taste\": \"4.5\", \"review/overall\": \"4.5\", \"review/time\": \"1209864382\", \"review/profileName\": \"RblWthACoz\", \"review/text\": \"Pours a foggy amber (surprise!). Flavor has a mild citrus tang to it and an overall leafy and earthy thing. Brings a nice level of complexity to it, but nothing Earth-shattering. Gives a biting carbonation with a smooth liquid feel. This is a very nice beer that is a pleasure to drink. Quite tasty.\"}\n",
            "{}\n"
          ]
        }
      ],
      "source": [
        "!head -10 'beeradvocate.jsonlines'\n",
        "!tail -10 'beeradvocate.jsonlines'"
      ]
    },
    {
      "cell_type": "markdown",
      "metadata": {
        "id": "gf68sBQNhCIj"
      },
      "source": [
        "Count the numer of lines before and after conversion from json to jsonlines.  \n",
        "Since invalid data (lines) are ignored there will be some missing data.  \n",
        "Note -Since data are ignored is invalid and random ( the rest of data should be still usable for the project as theres no (hand picked) data)."
      ]
    },
    {
      "cell_type": "code",
      "execution_count": 8,
      "metadata": {
        "id": "6pZLUZRh1cAE",
        "colab": {
          "base_uri": "https://localhost:8080/"
        },
        "outputId": "9f2e6845-d636-4104-dd2c-fa7cf3b2ccc6"
      },
      "outputs": [
        {
          "output_type": "stream",
          "name": "stdout",
          "text": [
            "1586615 589528\n"
          ]
        }
      ],
      "source": [
        "with open('beeradvocate.json', 'r') as input_file:\n",
        "    with jsonlines.open(\"beeradvocate.jsonlines\", \"r\") as output_file:\n",
        "        try:\n",
        "            count = 0\n",
        "            for line in input_file:\n",
        "                count += 1\n",
        "            countl = 0\n",
        "            for line in output_file:\n",
        "              countl +=1\n",
        "            print(count,countl)\n",
        "        except json.JSONDecodeError:\n",
        "            pass"
      ]
    },
    {
      "cell_type": "markdown",
      "source": [
        "Make a dask data_bag from the jsonlines, splitting it into partition of blocksize."
      ],
      "metadata": {
        "id": "qCikmVRxTdgT"
      }
    },
    {
      "cell_type": "code",
      "execution_count": 9,
      "metadata": {
        "id": "8AbJpviznQv8",
        "colab": {
          "base_uri": "https://localhost:8080/"
        },
        "outputId": "ef5bd7ff-d454-455b-8893-299b9fd7ddd5"
      },
      "outputs": [
        {
          "output_type": "stream",
          "name": "stdout",
          "text": [
            "dask.bag<bag-from-delayed, npartitions=534>\n"
          ]
        }
      ],
      "source": [
        "import dask\n",
        "from dask import bag as db\n",
        "\n",
        "data_bag = db.read_text('beeradvocate.jsonlines', blocksize=\"1MB\")\n",
        "print(data_bag)"
      ]
    },
    {
      "cell_type": "markdown",
      "source": [
        "Creating a random sample of lines from the file \"beeradvocate.jsonlines\" and writes them to a new file named \"sample_data.jsonl\".  \n",
        "The random is done by using the python random library and shuffling the lines and selecting the lines upto the sample size."
      ],
      "metadata": {
        "id": "zq0a5io0UQzr"
      }
    },
    {
      "cell_type": "code",
      "execution_count": 10,
      "metadata": {
        "id": "yOHEw9wf1dXE"
      },
      "outputs": [],
      "source": [
        "import json\n",
        "import random\n",
        "\n",
        "sample_size = 10000\n",
        "\n",
        "input_json_lines_file = 'beeradvocate.jsonlines'\n",
        "output_file = 'sample_data.jsonl'\n",
        "\n",
        "def create_sample(input_file, output_file, sample_size):\n",
        "   with open(input_file, 'r') as read_file, open(output_file, 'w') as output:\n",
        "       lines = read_file.readlines()\n",
        "       random.shuffle(lines)\n",
        "       for line in lines[:sample_size]:\n",
        "           output.write(line)\n",
        "\n",
        "create_sample(input_json_lines_file, output_file, sample_size)"
      ]
    },
    {
      "cell_type": "markdown",
      "metadata": {
        "id": "DOp5vHxnkU11"
      },
      "source": [
        "Make a dask data_bag from the sample_data jsonlines, splitting it into partition of blocksize."
      ]
    },
    {
      "cell_type": "code",
      "execution_count": 11,
      "metadata": {
        "id": "vNUwF4B82zxn",
        "colab": {
          "base_uri": "https://localhost:8080/"
        },
        "outputId": "56660f55-f851-465e-be49-384b6b1b416e"
      },
      "outputs": [
        {
          "output_type": "stream",
          "name": "stdout",
          "text": [
            "dask.bag<bag-from-delayed, npartitions=9>\n"
          ]
        }
      ],
      "source": [
        "import dask\n",
        "from dask import bag as db\n",
        "\n",
        "data_bag = db.read_text('sample_data.jsonl', blocksize=\"1MB\")\n",
        "print(data_bag)"
      ]
    },
    {
      "cell_type": "markdown",
      "source": [
        "extract_beer_style_and_rating(json_string): extracts attributes such as beer style, appearance, aroma, palate, and taste ratings, and returns them as a tuple.\n",
        "beer_style_vectors(text_file_bag): Takes the beeradvocate(data_bag) as input, than maps beer/style and the ratining attributes by calling the function extract_beer_style_and_rating. Then group by beer/style (distinct). Finally maps the mean of the review for each beer style."
      ],
      "metadata": {
        "id": "a2IX3NZvWZsN"
      }
    },
    {
      "cell_type": "code",
      "execution_count": 12,
      "metadata": {
        "id": "_uZItXaEndwe",
        "colab": {
          "base_uri": "https://localhost:8080/"
        },
        "outputId": "1ee2b54e-fb56-4025-b329-14c209c66943"
      },
      "outputs": [
        {
          "output_type": "stream",
          "name": "stdout",
          "text": [
            "Beer Style: English Porter, Mean Vector: [3.91304348 3.86231884 3.79710145 3.98550725]\n",
            "Beer Style: American Double / Imperial IPA, Mean Vector: [4.10784314 4.11873638 4.0130719  4.10130719]\n",
            "Beer Style: Witbier, Mean Vector: [3.72164948 3.66752577 3.62371134 3.69072165]\n",
            "Beer Style: Keller Bier / Zwickel Bier, Mean Vector: [3.83333333 3.5        3.74074074 3.75925926]\n",
            "Beer Style: Belgian Dark Ale, Mean Vector: [3.85714286 3.6875     3.65178571 3.72321429]\n",
            "Beer Style: Berliner Weissbier, Mean Vector: [3.64705882 3.38235294 3.88235294 3.67647059]\n",
            "Beer Style: Lambic - Unblended, Mean Vector: [3.79166667 4.25       3.91666667 4.20833333]\n",
            "Beer Style: California Common / Steam Beer, Mean Vector: [3.7        3.61428571 3.67142857 3.68571429]\n",
            "Beer Style: Bière de Champagne / Bière Brut, Mean Vector: [4.25 3.5  4.25 4.25]\n",
            "Beer Style: American Brown Ale, Mean Vector: [3.84662577 3.71779141 3.73312883 3.82208589]\n",
            "Beer Style: Scottish Ale, Mean Vector: [3.76623377 3.62337662 3.66883117 3.73376623]\n",
            "Beer Style: American Porter, Mean Vector: [3.96666667 3.85       3.80606061 3.95909091]\n",
            "Beer Style: American Double / Imperial Stout, Mean Vector: [4.16929134 4.16535433 4.1023622  4.20275591]\n",
            "Beer Style: Light Lager, Mean Vector: [2.41772152 2.12658228 2.28481013 2.17088608]\n",
            "Beer Style: Bock, Mean Vector: [3.64942529 3.46551724 3.59770115 3.62643678]\n",
            "Beer Style: Eisbock, Mean Vector: [3.95  4.225 4.225 4.3  ]\n",
            "Beer Style: Wheatwine, Mean Vector: [3.78125 3.8125  3.84375 3.875  ]\n",
            "Beer Style: Gose, Mean Vector: [4.         3.83333333 4.         4.16666667]\n",
            "Beer Style: Russian Imperial Stout, Mean Vector: [4.19858156 4.07624113 4.10106383 4.17553191]\n",
            "Beer Style: American Stout, Mean Vector: [4.00632911 3.89556962 3.78797468 3.89240506]\n",
            "Beer Style: Euro Strong Lager, Mean Vector: [3.375  3.0625 3.1875 3.4375]\n",
            "Beer Style: Lambic - Fruit, Mean Vector: [3.97058824 4.         3.86764706 3.97794118]\n",
            "Beer Style: Happoshu, Mean Vector: [3.         2.66666667 2.83333333 3.33333333]\n",
            "Beer Style: Bière de Garde, Mean Vector: [3.87777778 3.81111111 3.8        3.92222222]\n",
            "Beer Style: Irish Red Ale, Mean Vector: [3.72058824 3.52941176 3.52941176 3.5       ]\n",
            "Beer Style: Flanders Red Ale, Mean Vector: [3.95238095 4.14285714 3.96428571 4.22619048]\n",
            "Beer Style: Saison / Farmhouse Ale, Mean Vector: [4.06683168 4.0049505  3.9529703  3.95544554]\n",
            "Beer Style: Oatmeal Stout, Mean Vector: [3.96052632 3.86842105 3.83333333 3.89035088]\n",
            "Beer Style: Maibock / Helles Bock, Mean Vector: [3.71428571 3.66428571 3.76428571 3.85      ]\n",
            "Beer Style: Scotch Ale / Wee Heavy, Mean Vector: [3.89565217 3.93913043 3.92173913 4.05217391]\n",
            "Beer Style: Schwarzbier, Mean Vector: [3.9296875 3.6875    3.8046875 3.8515625]\n",
            "Beer Style: Cream Ale, Mean Vector: [3.53571429 3.39285714 3.625      3.625     ]\n",
            "Beer Style: Rauchbier, Mean Vector: [3.84 3.82 3.76 3.88]\n",
            "Beer Style: Japanese Rice Lager, Mean Vector: [3.         3.         3.05555556 2.77777778]\n",
            "Beer Style: Kristalweizen, Mean Vector: [3.96153846 3.65384615 3.88461538 3.76923077]\n",
            "Beer Style: Belgian IPA, Mean Vector: [4.06896552 3.91954023 3.85632184 3.99425287]\n",
            "Beer Style: American Pale Ale (APA), Mean Vector: [3.78424658 3.63812785 3.62328767 3.67922374]\n",
            "Beer Style: Weizenbock, Mean Vector: [3.875      4.         3.99166667 4.03333333]\n",
            "Beer Style: Kölsch, Mean Vector: [3.59090909 3.38636364 3.57575758 3.65151515]\n",
            "Beer Style: Quadrupel (Quad), Mean Vector: [4.10629921 4.13385827 4.15748031 4.23228346]\n",
            "Beer Style: Dortmunder / Export Lager, Mean Vector: [3.75675676 3.59459459 3.78378378 3.78378378]\n",
            "Beer Style: English Bitter, Mean Vector: [3.73255814 3.46511628 3.68604651 3.62790698]\n",
            "Beer Style: English Stout, Mean Vector: [3.96153846 3.76923077 3.57692308 3.76923077]\n",
            "Beer Style: English Pale Mild Ale, Mean Vector: [3.7 3.3 3.9 3.6]\n",
            "Beer Style: English Strong Ale, Mean Vector: [3.7        3.66666667 3.66666667 3.86666667]\n",
            "Beer Style: Black & Tan, Mean Vector: [3.65789474 3.26315789 3.55263158 3.5       ]\n",
            "Beer Style: Faro, Mean Vector: [4. 4. 4. 4.]\n",
            "Beer Style: Kvass, Mean Vector: [3.5  4.   3.25 3.5 ]\n",
            "Beer Style: American IPA, Mean Vector: [3.94059406 3.88401697 3.82531825 3.88048091]\n",
            "Beer Style: American Amber / Red Ale, Mean Vector: [3.82063492 3.64603175 3.64603175 3.74603175]\n",
            "Beer Style: American Barleywine, Mean Vector: [3.95962733 4.01242236 4.00621118 4.10869565]\n",
            "Beer Style: American Strong Ale, Mean Vector: [4.07831325 4.00903614 4.02409639 4.10240964]\n",
            "Beer Style: Dubbel, Mean Vector: [4.07394366 3.92605634 3.92957746 4.01056338]\n",
            "Beer Style: Irish Dry Stout, Mean Vector: [3.96774194 3.48387097 3.6827957  3.57526882]\n",
            "Beer Style: Belgian Pale Ale, Mean Vector: [3.90123457 3.79938272 3.7808642  3.80864198]\n",
            "Beer Style: Extra Special / Strong Bitter (ESB), Mean Vector: [3.85714286 3.65178571 3.70982143 3.80357143]\n",
            "Beer Style: American Blonde Ale, Mean Vector: [3.51149425 3.39655172 3.44827586 3.47701149]\n",
            "Beer Style: Winter Warmer, Mean Vector: [3.83189655 3.78448276 3.69396552 3.75431034]\n",
            "Beer Style: Dunkelweizen, Mean Vector: [3.92982456 3.83333333 3.71929825 3.8245614 ]\n",
            "Beer Style: Roggenbier, Mean Vector: [3.91666667 3.91666667 4.08333333 3.91666667]\n",
            "Beer Style: English Dark Mild Ale, Mean Vector: [3.5        3.70833333 3.5        3.58333333]\n",
            "Beer Style: American Adjunct Lager, Mean Vector: [2.84662577 2.51533742 2.82208589 2.75460123]\n",
            "Beer Style: Doppelbock, Mean Vector: [3.96518987 3.89873418 3.94620253 4.01898734]\n",
            "Beer Style: American Black Ale, Mean Vector: [4.05294118 3.92941176 3.94117647 4.06470588]\n",
            "Beer Style: American Pale Wheat Ale, Mean Vector: [3.53816794 3.37022901 3.42748092 3.38931298]\n",
            "Beer Style: Belgian Strong Dark Ale, Mean Vector: [4.02904564 3.98962656 3.95020747 4.0746888 ]\n",
            "Beer Style: Pumpkin Ale, Mean Vector: [3.71794872 3.76923077 3.51923077 3.62179487]\n",
            "Beer Style: Munich Dunkel Lager, Mean Vector: [3.62264151 3.51886792 3.46226415 3.50943396]\n",
            "Beer Style: Milk / Sweet Stout, Mean Vector: [4.00657895 3.90789474 3.82236842 3.96710526]\n",
            "Beer Style: Herbed / Spiced Beer, Mean Vector: [3.47761194 3.53731343 3.38059701 3.3880597 ]\n",
            "Beer Style: Rye Beer, Mean Vector: [4.06896552 4.01724138 4.02586207 4.12068966]\n",
            "Beer Style: Smoked Beer, Mean Vector: [3.72727273 3.63636364 3.59090909 3.72727273]\n",
            "Beer Style: Euro Dark Lager, Mean Vector: [3.82608696 3.43478261 3.43478261 3.5       ]\n",
            "Beer Style: Vienna Lager, Mean Vector: [3.72321429 3.45535714 3.5625     3.75      ]\n",
            "Beer Style: American Double / Imperial Pilsner, Mean Vector: [4.12903226 3.90322581 3.91935484 4.06451613]\n",
            "Beer Style: American Pale Lager, Mean Vector: [3.1        2.94166667 3.14166667 3.20833333]\n",
            "Beer Style: Braggot, Mean Vector: [3.5 3.5 3.  3. ]\n",
            "Beer Style: Low Alcohol Beer, Mean Vector: [2.875 2.75  2.25  2.375]\n",
            "Beer Style: Hefeweizen, Mean Vector: [3.89800995 3.79353234 3.84328358 3.8880597 ]\n",
            "Beer Style: English Pale Ale, Mean Vector: [3.69776119 3.4141791  3.48134328 3.48880597]\n",
            "Beer Style: English India Pale Ale (IPA), Mean Vector: [3.7        3.63157895 3.6        3.72105263]\n",
            "Beer Style: German Pilsener, Mean Vector: [3.60795455 3.44318182 3.63352273 3.61079545]\n",
            "Beer Style: Belgian Strong Pale Ale, Mean Vector: [3.97555556 3.90222222 3.86222222 3.94222222]\n",
            "Beer Style: American Dark Wheat Ale, Mean Vector: [3.7 3.5 3.5 3.7]\n",
            "Beer Style: Tripel, Mean Vector: [3.98737374 3.97474747 3.94191919 4.05808081]\n",
            "Beer Style: Flanders Oud Bruin, Mean Vector: [3.94444444 4.06944444 4.02777778 4.16666667]\n",
            "Beer Style: Scottish Gruit / Ancient Herbed Ale, Mean Vector: [3.69230769 3.75       3.71153846 3.94230769]\n",
            "Beer Style: Old Ale, Mean Vector: [4.06666667 3.98888889 4.02777778 4.08888889]\n",
            "Beer Style: Foreign / Export Stout, Mean Vector: [3.92 3.87 3.91 3.94]\n",
            "Beer Style: American Amber / Red Lager, Mean Vector: [3.51754386 3.44736842 3.53508772 3.64035088]\n",
            "Beer Style: Gueuze, Mean Vector: [4.01020408 4.19387755 4.09183673 4.19387755]\n",
            "Beer Style: American Malt Liquor, Mean Vector: [2.78947368 2.39473684 2.63157895 2.47368421]\n",
            "Beer Style: Sahti, Mean Vector: [3.75 2.75 3.75 3.25]\n",
            "Beer Style: Märzen / Oktoberfest, Mean Vector: [3.70930233 3.50872093 3.59883721 3.64825581]\n",
            "Beer Style: Czech Pilsener, Mean Vector: [3.65384615 3.39010989 3.59340659 3.66483516]\n",
            "Beer Style: Baltic Porter, Mean Vector: [4.03424658 3.91780822 3.94520548 3.97945205]\n",
            "Beer Style: American Wild Ale, Mean Vector: [3.99047619 4.0952381  3.9952381  4.19047619]\n",
            "Beer Style: Altbier, Mean Vector: [3.78676471 3.61764706 3.67647059 3.80147059]\n",
            "Beer Style: English Brown Ale, Mean Vector: [3.69607843 3.66993464 3.56535948 3.67647059]\n",
            "Beer Style: Euro Pale Lager, Mean Vector: [3.11788618 2.83333333 3.04471545 2.95121951]\n",
            "Beer Style: Fruit / Vegetable Beer, Mean Vector: [3.51685393 3.52247191 3.38483146 3.47752809]\n",
            "Beer Style: English Barleywine, Mean Vector: [3.86619718 3.94366197 3.94366197 4.02816901]\n",
            "Beer Style: Munich Helles Lager, Mean Vector: [3.70909091 3.4        3.66363636 3.58181818]\n",
            "Beer Style: Chile Beer, Mean Vector: [3.79166667 3.75       3.70833333 4.        ]\n"
          ]
        }
      ],
      "source": [
        "import numpy as np\n",
        "\n",
        "def extract_beer_style_and_rating(json_string):\n",
        "    data = json.loads(json_string)\n",
        "    beer_style = data.get(\"beer/style\")\n",
        "    # overall_rating = float(data.get(\"review/overall\", 0))\n",
        "    appearance = float(data.get(\"review/appearance\", 0))\n",
        "    aroma = float(data.get(\"review/aroma\", 0))\n",
        "    palate = float(data.get(\"review/palate\", 0))\n",
        "    taste = float(data.get(\"review/taste\", 0))\n",
        "\n",
        "    return (beer_style, appearance, aroma, palate, taste)\n",
        "\n",
        "def beer_style_vectors(text_file_bag):\n",
        "\n",
        "    beer_styles_and_ratings = text_file_bag.map(extract_beer_style_and_rating)\n",
        "    grouped_by_style = beer_styles_and_ratings.groupby(lambda x: x[0])\n",
        "    mean_vectors = grouped_by_style.map(lambda style_group: (style_group[0], np.mean([np.array(entry[1:]) for entry in style_group[1]], axis=0)))\n",
        "\n",
        "    return (mean_vectors)\n",
        "\n",
        "style_vectors = beer_style_vectors(data_bag)\n",
        "for style, vector in style_vectors:\n",
        "    print(f\"Beer Style: {style}, Mean Vector: {vector}\")"
      ]
    },
    {
      "cell_type": "markdown",
      "source": [
        "cosine_similarity: lab 4\n",
        "Make a combination so that the alg can calculate beer/style ( against all the other beer style), than group by beer/style so the repeated beer style is collapsed.Finally sort the items by the cosine simalirity and then get the top 5 similar beer style."
      ],
      "metadata": {
        "id": "1vmiaeylY62y"
      }
    },
    {
      "cell_type": "code",
      "execution_count": 13,
      "metadata": {
        "id": "evzfu3IKtJUr",
        "colab": {
          "base_uri": "https://localhost:8080/"
        },
        "outputId": "5a3e3b7e-2a5a-4b9a-adde-b75989b080c1"
      },
      "outputs": [
        {
          "output_type": "stream",
          "name": "stdout",
          "text": [
            "Beer Style: American Double / Imperial Stout similar to: Rauchbier: 0.9999954701566232\n",
            "Beer Style: American Double / Imperial Stout similar to: Belgian Strong Dark Ale: 0.9999897554881713\n",
            "Beer Style: American Double / Imperial Stout similar to: Tripel: 0.9999895451981177\n",
            "Beer Style: American Double / Imperial Stout similar to: American Double / Imperial IPA: 0.9999858213322719\n",
            "Beer Style: American Double / Imperial Stout similar to: Witbier: 0.9999804856266226\n",
            "Beer Style: Bock similar to: Märzen / Oktoberfest: 0.9999812179897904\n",
            "Beer Style: Bock similar to: Schwarzbier: 0.9999769007406905\n",
            "Beer Style: Bock similar to: Dortmunder / Export Lager: 0.99996852108814\n",
            "Beer Style: Bock similar to: German Pilsener: 0.9999680149952088\n",
            "Beer Style: Bock similar to: Scottish Ale: 0.9999615914511354\n",
            "Beer Style: Happoshu similar to: Euro Strong Lager: 0.999065646087012\n",
            "Beer Style: Happoshu similar to: Vienna Lager: 0.9985122144410441\n",
            "Beer Style: Happoshu similar to: Gose: 0.9984524887091747\n",
            "Beer Style: Happoshu similar to: Chile Beer: 0.9983385376665077\n",
            "Beer Style: Happoshu similar to: American Pale Lager: 0.9982638423386028\n",
            "Beer Style: Cream Ale similar to: Dortmunder / Export Lager: 0.9999659646273573\n",
            "Beer Style: Cream Ale similar to: American Pale Lager: 0.9999613525024253\n",
            "Beer Style: Cream Ale similar to: German Pilsener: 0.9999534830726369\n",
            "Beer Style: Cream Ale similar to: Kölsch: 0.9999400476872615\n",
            "Beer Style: Cream Ale similar to: Maibock / Helles Bock: 0.9998978123932117\n",
            "Beer Style: Belgian IPA similar to: Milk / Sweet Stout: 0.9999895443144754\n",
            "Beer Style: Belgian IPA similar to: American Amber / Red Ale: 0.9999839263398987\n",
            "Beer Style: Belgian IPA similar to: American Porter: 0.9999803887690659\n",
            "Beer Style: Belgian IPA similar to: Belgian Dark Ale: 0.9999773440641572\n",
            "Beer Style: Belgian IPA similar to: American Pale Ale (APA): 0.9999755059031437\n",
            "Beer Style: Faro similar to: Foreign / Export Stout: 0.9999787423135043\n",
            "Beer Style: Faro similar to: American Double / Imperial Stout: 0.9999619702876833\n",
            "Beer Style: Faro similar to: California Common / Steam Beer: 0.9999606557221479\n",
            "Beer Style: Faro similar to: Wheatwine: 0.9999583532890309\n",
            "Beer Style: Faro similar to: American Strong Ale: 0.9999555016817221\n",
            "Beer Style: Roggenbier similar to: Wheatwine: 0.9998351522737828\n",
            "Beer Style: Roggenbier similar to: Faro: 0.9998338364385216\n",
            "Beer Style: Roggenbier similar to: Foreign / Export Stout: 0.9998125822842788\n",
            "Beer Style: Roggenbier similar to: California Common / Steam Beer: 0.9998047461691584\n",
            "Beer Style: Roggenbier similar to: German Pilsener: 0.9997829105538297\n",
            "Beer Style: American Adjunct Lager similar to: Black & Tan: 0.9999380821505165\n",
            "Beer Style: American Adjunct Lager similar to: Munich Helles Lager: 0.9998722466668292\n",
            "Beer Style: American Adjunct Lager similar to: Keller Bier / Zwickel Bier: 0.9998491128922723\n",
            "Beer Style: American Adjunct Lager similar to: Euro Pale Lager: 0.9998296513689034\n",
            "Beer Style: American Adjunct Lager similar to: English Bitter: 0.9997878805040963\n",
            "Beer Style: American Pale Wheat Ale similar to: Irish Red Ale: 0.9999596881207972\n",
            "Beer Style: American Pale Wheat Ale similar to: American Pale Ale (APA): 0.999950302795869\n",
            "Beer Style: American Pale Wheat Ale similar to: Belgian Pale Ale: 0.9999476299987395\n",
            "Beer Style: American Pale Wheat Ale similar to: Baltic Porter: 0.9999393665272229\n",
            "Beer Style: American Pale Wheat Ale similar to: Belgian Dark Ale: 0.9999309703261757\n",
            "Beer Style: Pumpkin Ale similar to: Herbed / Spiced Beer: 0.9999407012730055\n",
            "Beer Style: Pumpkin Ale similar to: Fruit / Vegetable Beer: 0.9999305461332847\n",
            "Beer Style: Pumpkin Ale similar to: Lambic - Fruit: 0.9998731848861435\n",
            "Beer Style: Pumpkin Ale similar to: Winter Warmer: 0.9998686081623493\n",
            "Beer Style: Pumpkin Ale similar to: Dunkelweizen: 0.9998602548857801\n",
            "Beer Style: Vienna Lager similar to: American Dark Wheat Ale: 0.9999353457865211\n",
            "Beer Style: Vienna Lager similar to: Czech Pilsener: 0.9999204863173236\n",
            "Beer Style: Vienna Lager similar to: Altbier: 0.9999195545943677\n",
            "Beer Style: Vienna Lager similar to: Euro Strong Lager: 0.9999191613327146\n",
            "Beer Style: Vienna Lager similar to: Extra Special / Strong Bitter (ESB): 0.9998920876120904\n",
            "Beer Style: Belgian Strong Pale Ale similar to: Witbier: 0.9999986310505474\n",
            "Beer Style: Belgian Strong Pale Ale similar to: Oatmeal Stout: 0.9999942003878659\n",
            "Beer Style: Belgian Strong Pale Ale similar to: American IPA: 0.9999921101722085\n",
            "Beer Style: Belgian Strong Pale Ale similar to: English India Pale Ale (IPA): 0.9999821842348093\n",
            "Beer Style: Belgian Strong Pale Ale similar to: Belgian Pale Ale: 0.9999819176435881\n",
            "Beer Style: Dortmunder / Export Lager similar to: German Pilsener: 0.999996563341282\n",
            "Beer Style: Dortmunder / Export Lager similar to: Bock: 0.99996852108814\n",
            "Beer Style: Dortmunder / Export Lager similar to: Cream Ale: 0.9999659646273573\n",
            "Beer Style: Dortmunder / Export Lager similar to: Kölsch: 0.9999543061667535\n",
            "Beer Style: Dortmunder / Export Lager similar to: Czech Pilsener: 0.9999177120064284\n",
            "Beer Style: English Stout similar to: American Stout: 0.9998679055129418\n",
            "Beer Style: English Stout similar to: Dunkelweizen: 0.9998615118217097\n",
            "Beer Style: English Stout similar to: Belgian Dark Ale: 0.9998348716608692\n",
            "Beer Style: English Stout similar to: Belgian IPA: 0.9998316846768811\n",
            "Beer Style: English Stout similar to: Milk / Sweet Stout: 0.9997918857565218\n",
            "Beer Style: Doppelbock similar to: Old Ale: 0.9999955271032887\n",
            "Beer Style: Doppelbock similar to: Rye Beer: 0.9999938391278718\n",
            "Beer Style: Doppelbock similar to: American Strong Ale: 0.9999920117668317\n",
            "Beer Style: Doppelbock similar to: Foreign / Export Stout: 0.9999885367728542\n",
            "Beer Style: Doppelbock similar to: Hefeweizen: 0.999983210072858\n",
            "Beer Style: German Pilsener similar to: Dortmunder / Export Lager: 0.999996563341282\n",
            "Beer Style: German Pilsener similar to: Bock: 0.9999680149952088\n",
            "Beer Style: German Pilsener similar to: Cream Ale: 0.9999534830726369\n",
            "Beer Style: German Pilsener similar to: Kölsch: 0.9999355148987478\n",
            "Beer Style: German Pilsener similar to: English Bitter: 0.9999314314781421\n",
            "Beer Style: American Amber / Red Lager similar to: Maibock / Helles Bock: 0.9999940221057739\n",
            "Beer Style: American Amber / Red Lager similar to: Doppelbock: 0.9999552880257818\n",
            "Beer Style: American Amber / Red Lager similar to: English Strong Ale: 0.9999499953363077\n",
            "Beer Style: American Amber / Red Lager similar to: Gose: 0.9999438125321649\n",
            "Beer Style: American Amber / Red Lager similar to: Rye Beer: 0.999931908841327\n",
            "Beer Style: Baltic Porter similar to: American Blonde Ale: 0.9999946271013644\n",
            "Beer Style: Baltic Porter similar to: Russian Imperial Stout: 0.9999928325368296\n",
            "Beer Style: Baltic Porter similar to: Hefeweizen: 0.999989859125066\n",
            "Beer Style: Baltic Porter similar to: Scottish Ale: 0.9999862296084235\n",
            "Beer Style: Baltic Porter similar to: Dubbel: 0.999985619024449\n",
            "Beer Style: English Brown Ale similar to: American Double / Imperial IPA: 0.9999877635906487\n",
            "Beer Style: English Brown Ale similar to: Lambic - Fruit: 0.9999861060630283\n",
            "Beer Style: English Brown Ale similar to: Fruit / Vegetable Beer: 0.9999853693950821\n",
            "Beer Style: English Brown Ale similar to: Winter Warmer: 0.9999816647120338\n",
            "Beer Style: English Brown Ale similar to: Witbier: 0.9999812906244423\n",
            "Beer Style: Berliner Weissbier similar to: English Pale Mild Ale: 0.9998665532128044\n",
            "Beer Style: Berliner Weissbier similar to: American Adjunct Lager: 0.999651528103496\n",
            "Beer Style: Berliner Weissbier similar to: Cream Ale: 0.999643844256747\n",
            "Beer Style: Berliner Weissbier similar to: Munich Helles Lager: 0.9995598444893049\n",
            "Beer Style: Berliner Weissbier similar to: German Pilsener: 0.99954107966182\n",
            "Beer Style: Scottish Ale similar to: American Brown Ale: 0.9999953729537925\n",
            "Beer Style: Scottish Ale similar to: Russian Imperial Stout: 0.9999945576696488\n",
            "Beer Style: Scottish Ale similar to: American Blonde Ale: 0.9999927679580194\n",
            "Beer Style: Scottish Ale similar to: Dubbel: 0.9999886477700637\n",
            "Beer Style: Scottish Ale similar to: Hefeweizen: 0.9999880300565167\n",
            "Beer Style: Russian Imperial Stout similar to: American Brown Ale: 0.9999965528900603\n",
            "Beer Style: Russian Imperial Stout similar to: Scottish Ale: 0.9999945576696488\n",
            "Beer Style: Russian Imperial Stout similar to: Hefeweizen: 0.9999940135518557\n",
            "Beer Style: Russian Imperial Stout similar to: Baltic Porter: 0.9999928325368296\n",
            "Beer Style: Russian Imperial Stout similar to: American Blonde Ale: 0.9999926445367029\n",
            "Beer Style: Kristalweizen similar to: Euro Pale Lager: 0.9999857654577362\n",
            "Beer Style: Kristalweizen similar to: Munich Helles Lager: 0.9999703105522116\n",
            "Beer Style: Kristalweizen similar to: English Bitter: 0.9999693691717629\n",
            "Beer Style: Kristalweizen similar to: Black & Tan: 0.9998964921718887\n",
            "Beer Style: Kristalweizen similar to: Keller Bier / Zwickel Bier: 0.999879220818028\n",
            "Beer Style: Japanese Rice Lager similar to: Roggenbier: 0.999530007255573\n",
            "Beer Style: Japanese Rice Lager similar to: Saison / Farmhouse Ale: 0.9994198022347693\n",
            "Beer Style: Japanese Rice Lager similar to: Herbed / Spiced Beer: 0.9993979476753961\n",
            "Beer Style: Japanese Rice Lager similar to: American Pale Wheat Ale: 0.9993952269160424\n",
            "Beer Style: Japanese Rice Lager similar to: Irish Red Ale: 0.9993619148252331\n",
            "Beer Style: American Pale Ale (APA) similar to: Belgian Dark Ale: 0.9999917160955304\n",
            "Beer Style: American Pale Ale (APA) similar to: Dubbel: 0.9999883296977616\n",
            "Beer Style: American Pale Ale (APA) similar to: Munich Dunkel Lager: 0.9999856157189484\n",
            "Beer Style: American Pale Ale (APA) similar to: Belgian Pale Ale: 0.9999850556749511\n",
            "Beer Style: American Pale Ale (APA) similar to: American Amber / Red Ale: 0.9999832090726367\n",
            "Beer Style: Milk / Sweet Stout similar to: Belgian IPA: 0.9999895443144754\n",
            "Beer Style: Milk / Sweet Stout similar to: Smoked Beer: 0.9999881618587838\n",
            "Beer Style: Milk / Sweet Stout similar to: American Porter: 0.9999873622329496\n",
            "Beer Style: Milk / Sweet Stout similar to: English Brown Ale: 0.9999770688754814\n",
            "Beer Style: Milk / Sweet Stout similar to: Belgian Strong Pale Ale: 0.9999750985714415\n",
            "Beer Style: American Pale Lager similar to: Kölsch: 0.9999708811163619\n",
            "Beer Style: American Pale Lager similar to: Cream Ale: 0.9999613525024253\n",
            "Beer Style: American Pale Lager similar to: Gose: 0.9999609002629545\n",
            "Beer Style: American Pale Lager similar to: Czech Pilsener: 0.9999188619517689\n",
            "Beer Style: American Pale Lager similar to: Dortmunder / Export Lager: 0.999913546160841\n",
            "Beer Style: Braggot similar to: Low Alcohol Beer: 0.9994958196897166\n",
            "Beer Style: Braggot similar to: Pumpkin Ale: 0.9985285210383386\n",
            "Beer Style: Braggot similar to: English Stout: 0.998361535859059\n",
            "Beer Style: Braggot similar to: Herbed / Spiced Beer: 0.9982464714001452\n",
            "Beer Style: Braggot similar to: Kvass: 0.9981767524568816\n",
            "Beer Style: Scottish Gruit / Ancient Herbed Ale similar to: English Strong Ale: 0.9999558522414455\n",
            "Beer Style: Scottish Gruit / Ancient Herbed Ale similar to: American Wild Ale: 0.9999514351014095\n",
            "Beer Style: Scottish Gruit / Ancient Herbed Ale similar to: Chile Beer: 0.9999376055992997\n",
            "Beer Style: Scottish Gruit / Ancient Herbed Ale similar to: Scotch Ale / Wee Heavy: 0.9999358244319575\n",
            "Beer Style: Scottish Gruit / Ancient Herbed Ale similar to: Flanders Oud Bruin: 0.9999356569020671\n",
            "Beer Style: Märzen / Oktoberfest similar to: Schwarzbier: 0.9999957719651326\n",
            "Beer Style: Märzen / Oktoberfest similar to: Extra Special / Strong Bitter (ESB): 0.9999905226789823\n",
            "Beer Style: Märzen / Oktoberfest similar to: Bock: 0.9999812179897904\n",
            "Beer Style: Märzen / Oktoberfest similar to: Scottish Ale: 0.9999807071987445\n",
            "Beer Style: Märzen / Oktoberfest similar to: American Blonde Ale: 0.9999670479924521\n",
            "Beer Style: American Wild Ale similar to: Flanders Oud Bruin: 0.9999741545410956\n",
            "Beer Style: American Wild Ale similar to: Scotch Ale / Wee Heavy: 0.9999688393197197\n",
            "Beer Style: American Wild Ale similar to: Flanders Red Ale: 0.9999556920079238\n",
            "Beer Style: American Wild Ale similar to: American Barleywine: 0.9999546408036483\n",
            "Beer Style: American Wild Ale similar to: Scottish Gruit / Ancient Herbed Ale: 0.9999514351014095\n",
            "Beer Style: Euro Pale Lager similar to: Kristalweizen: 0.9999857654577362\n",
            "Beer Style: Euro Pale Lager similar to: Munich Helles Lager: 0.9999737232681776\n",
            "Beer Style: Euro Pale Lager similar to: Black & Tan: 0.9999478967854466\n",
            "Beer Style: Euro Pale Lager similar to: English Bitter: 0.9999473481644967\n",
            "Beer Style: Euro Pale Lager similar to: Keller Bier / Zwickel Bier: 0.9998879107329409\n",
            "Beer Style: English Porter similar to: English India Pale Ale (IPA): 0.9999825093007962\n",
            "Beer Style: English Porter similar to: Belgian Strong Dark Ale: 0.9999804292054081\n",
            "Beer Style: English Porter similar to: Bière de Garde: 0.9999799668269022\n",
            "Beer Style: English Porter similar to: Smoked Beer: 0.9999771060965253\n",
            "Beer Style: English Porter similar to: Rauchbier: 0.9999764175593849\n",
            "Beer Style: Keller Bier / Zwickel Bier similar to: Czech Pilsener: 0.9999627389867061\n",
            "Beer Style: Keller Bier / Zwickel Bier similar to: English Bitter: 0.9999509145924698\n",
            "Beer Style: Keller Bier / Zwickel Bier similar to: Munich Helles Lager: 0.9999493888640303\n",
            "Beer Style: Keller Bier / Zwickel Bier similar to: Black & Tan: 0.9999399515500627\n",
            "Beer Style: Keller Bier / Zwickel Bier similar to: Schwarzbier: 0.9999153851680116\n",
            "Beer Style: Belgian Dark Ale similar to: American Pale Ale (APA): 0.9999917160955304\n",
            "Beer Style: Belgian Dark Ale similar to: Munich Dunkel Lager: 0.999981561601743\n",
            "Beer Style: Belgian Dark Ale similar to: Belgian IPA: 0.9999773440641572\n",
            "Beer Style: Belgian Dark Ale similar to: American Amber / Red Ale: 0.9999759333706673\n",
            "Beer Style: Belgian Dark Ale similar to: American Stout: 0.9999741294315567\n",
            "Beer Style: American Brown Ale similar to: Russian Imperial Stout: 0.9999965528900603\n",
            "Beer Style: American Brown Ale similar to: Scottish Ale: 0.9999953729537925\n",
            "Beer Style: American Brown Ale similar to: Dubbel: 0.9999938336780149\n",
            "Beer Style: American Brown Ale similar to: American Black Ale: 0.9999938104227202\n",
            "Beer Style: American Brown Ale similar to: Baltic Porter: 0.9999840838734354\n",
            "Beer Style: Wheatwine similar to: Quadrupel (Quad): 0.9999934685870722\n",
            "Beer Style: Wheatwine similar to: American Barleywine: 0.9999794591640623\n",
            "Beer Style: Wheatwine similar to: English Barleywine: 0.9999785942479509\n",
            "Beer Style: Wheatwine similar to: Weizenbock: 0.9999649826253474\n",
            "Beer Style: Wheatwine similar to: Foreign / Export Stout: 0.99996319224171\n",
            "Beer Style: Lambic - Fruit similar to: American Double / Imperial IPA: 0.9999955630463262\n",
            "Beer Style: Lambic - Fruit similar to: Fruit / Vegetable Beer: 0.9999861442906132\n",
            "Beer Style: Lambic - Fruit similar to: English Brown Ale: 0.9999861060630283\n",
            "Beer Style: Lambic - Fruit similar to: American Double / Imperial Stout: 0.9999759450266713\n",
            "Beer Style: Lambic - Fruit similar to: Rauchbier: 0.9999674658137869\n",
            "Beer Style: Bière de Garde similar to: English India Pale Ale (IPA): 0.9999956222767333\n",
            "Beer Style: Bière de Garde similar to: Belgian Strong Dark Ale: 0.9999949033787171\n",
            "Beer Style: Bière de Garde similar to: Rye Beer: 0.9999931306662937\n",
            "Beer Style: Bière de Garde similar to: American Strong Ale: 0.9999903526742746\n",
            "Beer Style: Bière de Garde similar to: American Black Ale: 0.9999881597065504\n",
            "Beer Style: Scotch Ale / Wee Heavy similar to: American Barleywine: 0.9999961802973336\n",
            "Beer Style: Scotch Ale / Wee Heavy similar to: English Barleywine: 0.9999858885701637\n",
            "Beer Style: Scotch Ale / Wee Heavy similar to: Quadrupel (Quad): 0.9999847072185668\n",
            "Beer Style: Scotch Ale / Wee Heavy similar to: Flanders Oud Bruin: 0.9999725560014067\n",
            "Beer Style: Scotch Ale / Wee Heavy similar to: American Wild Ale: 0.9999688393197197\n",
            "Beer Style: English Bitter similar to: Munich Helles Lager: 0.9999864219901289\n",
            "Beer Style: English Bitter similar to: Kristalweizen: 0.9999693691717629\n",
            "Beer Style: English Bitter similar to: Keller Bier / Zwickel Bier: 0.9999509145924698\n",
            "Beer Style: English Bitter similar to: Euro Pale Lager: 0.9999473481644967\n",
            "Beer Style: English Bitter similar to: Bock: 0.9999324504875486\n",
            "Beer Style: Kvass similar to: English Dark Mild Ale: 0.9984874909001599\n",
            "Beer Style: Kvass similar to: Pumpkin Ale: 0.9984803480086043\n",
            "Beer Style: Kvass similar to: Lambic - Unblended: 0.9982932573319862\n",
            "Beer Style: Kvass similar to: Braggot: 0.9981767524568816\n",
            "Beer Style: Kvass similar to: Herbed / Spiced Beer: 0.9981700954671269\n",
            "Beer Style: American IPA similar to: Witbier: 0.9999956932344034\n",
            "Beer Style: American IPA similar to: Oatmeal Stout: 0.9999944041103532\n",
            "Beer Style: American IPA similar to: Winter Warmer: 0.9999933950228955\n",
            "Beer Style: American IPA similar to: Belgian Strong Pale Ale: 0.9999921101722085\n",
            "Beer Style: American IPA similar to: Belgian Pale Ale: 0.9999878072209571\n",
            "Beer Style: American Strong Ale similar to: Old Ale: 0.9999976771836374\n",
            "Beer Style: American Strong Ale similar to: Rye Beer: 0.9999969484704352\n",
            "Beer Style: American Strong Ale similar to: Doppelbock: 0.9999920117668317\n",
            "Beer Style: American Strong Ale similar to: Bière de Garde: 0.9999903526742746\n",
            "Beer Style: American Strong Ale similar to: Hefeweizen: 0.9999900174331013\n",
            "Beer Style: Dubbel similar to: American Brown Ale: 0.9999938336780149\n",
            "Beer Style: Dubbel similar to: American Amber / Red Ale: 0.999990367764529\n",
            "Beer Style: Dubbel similar to: Russian Imperial Stout: 0.9999886486707522\n",
            "Beer Style: Dubbel similar to: Scottish Ale: 0.9999886477700637\n",
            "Beer Style: Dubbel similar to: American Pale Ale (APA): 0.9999883296977616\n",
            "Beer Style: Belgian Pale Ale similar to: Oatmeal Stout: 0.9999959097303268\n",
            "Beer Style: Belgian Pale Ale similar to: American IPA: 0.9999878072209571\n",
            "Beer Style: Belgian Pale Ale similar to: Munich Dunkel Lager: 0.9999858456656823\n",
            "Beer Style: Belgian Pale Ale similar to: Saison / Farmhouse Ale: 0.9999850928901222\n",
            "Beer Style: Belgian Pale Ale similar to: American Pale Ale (APA): 0.9999850556749511\n",
            "Beer Style: Rye Beer similar to: American Strong Ale: 0.9999969484704352\n",
            "Beer Style: Rye Beer similar to: Doppelbock: 0.9999938391278718\n",
            "Beer Style: Rye Beer similar to: Bière de Garde: 0.9999931306662937\n",
            "Beer Style: Rye Beer similar to: Old Ale: 0.9999931090191\n",
            "Beer Style: Rye Beer similar to: Tripel: 0.999991298395982\n",
            "Beer Style: Foreign / Export Stout similar to: Old Ale: 0.9999939372633284\n",
            "Beer Style: Foreign / Export Stout similar to: California Common / Steam Beer: 0.9999916921389199\n",
            "Beer Style: Foreign / Export Stout similar to: American Strong Ale: 0.9999893546725196\n",
            "Beer Style: Foreign / Export Stout similar to: Doppelbock: 0.9999885367728542\n",
            "Beer Style: Foreign / Export Stout similar to: Hefeweizen: 0.9999854462891933\n",
            "Beer Style: Witbier similar to: Belgian Strong Pale Ale: 0.9999986310505474\n",
            "Beer Style: Witbier similar to: American IPA: 0.9999956932344034\n",
            "Beer Style: Witbier similar to: Oatmeal Stout: 0.9999927643295545\n",
            "Beer Style: Witbier similar to: English Brown Ale: 0.9999812906244423\n",
            "Beer Style: Witbier similar to: Belgian Pale Ale: 0.9999812250006908\n",
            "Beer Style: Gose similar to: American Pale Lager: 0.9999609002629545\n",
            "Beer Style: Gose similar to: Kölsch: 0.9999531051688003\n",
            "Beer Style: Gose similar to: American Amber / Red Lager: 0.9999438125321649\n",
            "Beer Style: Gose similar to: Maibock / Helles Bock: 0.9999147848378007\n",
            "Beer Style: Gose similar to: Cream Ale: 0.999889780189205\n",
            "Beer Style: American Stout similar to: Dunkelweizen: 0.9999993166509181\n",
            "Beer Style: American Stout similar to: Munich Dunkel Lager: 0.9999862743539935\n",
            "Beer Style: American Stout similar to: Belgian IPA: 0.9999754062811106\n",
            "Beer Style: American Stout similar to: Belgian Dark Ale: 0.9999741294315567\n",
            "Beer Style: American Stout similar to: Milk / Sweet Stout: 0.999973436715424\n",
            "Beer Style: Flanders Red Ale similar to: American Wild Ale: 0.9999556920079238\n",
            "Beer Style: Flanders Red Ale similar to: Flanders Oud Bruin: 0.9999137604964715\n",
            "Beer Style: Flanders Red Ale similar to: Scottish Gruit / Ancient Herbed Ale: 0.9999041068618761\n",
            "Beer Style: Flanders Red Ale similar to: Gueuze: 0.9999014864909527\n",
            "Beer Style: Flanders Red Ale similar to: Scotch Ale / Wee Heavy: 0.9998544116309005\n",
            "Beer Style: Maibock / Helles Bock similar to: American Amber / Red Lager: 0.9999940221057739\n",
            "Beer Style: Maibock / Helles Bock similar to: Doppelbock: 0.9999545472941227\n",
            "Beer Style: Maibock / Helles Bock similar to: Quadrupel (Quad): 0.9999509931661207\n",
            "Beer Style: Maibock / Helles Bock similar to: Scotch Ale / Wee Heavy: 0.9999326211717786\n",
            "Beer Style: Maibock / Helles Bock similar to: American Barleywine: 0.9999324086102224\n",
            "Beer Style: Quadrupel (Quad) similar to: American Barleywine: 0.9999938486528451\n",
            "Beer Style: Quadrupel (Quad) similar to: Wheatwine: 0.9999934685870722\n",
            "Beer Style: Quadrupel (Quad) similar to: English Barleywine: 0.9999878952373714\n",
            "Beer Style: Quadrupel (Quad) similar to: Scotch Ale / Wee Heavy: 0.9999847072185668\n",
            "Beer Style: Quadrupel (Quad) similar to: Tripel: 0.999964353286816\n",
            "Beer Style: Irish Dry Stout similar to: Light Lager: 0.9999656966327493\n",
            "Beer Style: Irish Dry Stout similar to: American Malt Liquor: 0.9998909403698737\n",
            "Beer Style: Irish Dry Stout similar to: Euro Dark Lager: 0.9997822483907992\n",
            "Beer Style: Irish Dry Stout similar to: Euro Pale Lager: 0.9997751131156472\n",
            "Beer Style: Irish Dry Stout similar to: English Pale Ale: 0.9997717011383066\n",
            "Beer Style: Extra Special / Strong Bitter (ESB) similar to: Märzen / Oktoberfest: 0.9999905226789823\n",
            "Beer Style: Extra Special / Strong Bitter (ESB) similar to: American Double / Imperial Pilsner: 0.9999863516445794\n",
            "Beer Style: Extra Special / Strong Bitter (ESB) similar to: Schwarzbier: 0.9999826137841222\n",
            "Beer Style: Extra Special / Strong Bitter (ESB) similar to: American Amber / Red Ale: 0.9999819444782211\n",
            "Beer Style: Extra Special / Strong Bitter (ESB) similar to: Scottish Ale: 0.9999803180929281\n",
            "Beer Style: American Blonde Ale similar to: Hefeweizen: 0.9999960723728922\n",
            "Beer Style: American Blonde Ale similar to: Baltic Porter: 0.9999946271013644\n",
            "Beer Style: American Blonde Ale similar to: Scottish Ale: 0.9999927679580194\n",
            "Beer Style: American Blonde Ale similar to: Russian Imperial Stout: 0.9999926445367029\n",
            "Beer Style: American Blonde Ale similar to: California Common / Steam Beer: 0.9999912960221073\n",
            "Beer Style: Euro Dark Lager similar to: English Pale Ale: 0.99984549094465\n",
            "Beer Style: Euro Dark Lager similar to: Irish Dry Stout: 0.9997822483907992\n",
            "Beer Style: Euro Dark Lager similar to: Irish Red Ale: 0.9997270885626638\n",
            "Beer Style: Euro Dark Lager similar to: English Stout: 0.9997114065539381\n",
            "Beer Style: Euro Dark Lager similar to: Belgian Dark Ale: 0.9996711676351306\n",
            "Beer Style: American Double / Imperial Pilsner similar to: American Amber / Red Ale: 0.9999870539335249\n",
            "Beer Style: American Double / Imperial Pilsner similar to: Extra Special / Strong Bitter (ESB): 0.9999863516445794\n",
            "Beer Style: American Double / Imperial Pilsner similar to: American Dark Wheat Ale: 0.9999721311345517\n",
            "Beer Style: American Double / Imperial Pilsner similar to: Belgian IPA: 0.9999619644570841\n",
            "Beer Style: American Double / Imperial Pilsner similar to: Dubbel: 0.9999606552270291\n",
            "Beer Style: Hefeweizen similar to: American Blonde Ale: 0.9999960723728922\n",
            "Beer Style: Hefeweizen similar to: California Common / Steam Beer: 0.9999953511197068\n",
            "Beer Style: Hefeweizen similar to: Old Ale: 0.9999946556679643\n",
            "Beer Style: Hefeweizen similar to: Russian Imperial Stout: 0.9999940135518557\n",
            "Beer Style: Hefeweizen similar to: American Strong Ale: 0.9999900174331013\n",
            "Beer Style: English Pale Ale similar to: Irish Red Ale: 0.9999333325645368\n",
            "Beer Style: English Pale Ale similar to: American Pale Wheat Ale: 0.9999209236739939\n",
            "Beer Style: English Pale Ale similar to: Belgian Dark Ale: 0.9999042525181979\n",
            "Beer Style: English Pale Ale similar to: Schwarzbier: 0.9998956061465994\n",
            "Beer Style: English Pale Ale similar to: American Pale Ale (APA): 0.9998832367282818\n",
            "Beer Style: American Dark Wheat Ale similar to: American Double / Imperial Pilsner: 0.9999721311345517\n",
            "Beer Style: American Dark Wheat Ale similar to: Altbier: 0.9999513254110189\n",
            "Beer Style: American Dark Wheat Ale similar to: Extra Special / Strong Bitter (ESB): 0.999941461985564\n",
            "Beer Style: American Dark Wheat Ale similar to: American Porter: 0.9999370683431894\n",
            "Beer Style: American Dark Wheat Ale similar to: Vienna Lager: 0.9999353457865211\n",
            "Beer Style: Old Ale similar to: American Strong Ale: 0.9999976771836374\n",
            "Beer Style: Old Ale similar to: Doppelbock: 0.9999955271032887\n",
            "Beer Style: Old Ale similar to: Hefeweizen: 0.9999946556679643\n",
            "Beer Style: Old Ale similar to: Foreign / Export Stout: 0.9999939372633284\n",
            "Beer Style: Old Ale similar to: Rye Beer: 0.9999931090191\n",
            "Beer Style: American Double / Imperial IPA similar to: Lambic - Fruit: 0.9999955630463262\n",
            "Beer Style: American Double / Imperial IPA similar to: English Brown Ale: 0.9999877635906487\n",
            "Beer Style: American Double / Imperial IPA similar to: American Double / Imperial Stout: 0.9999858213322719\n",
            "Beer Style: American Double / Imperial IPA similar to: Fruit / Vegetable Beer: 0.9999811372102321\n",
            "Beer Style: American Double / Imperial IPA similar to: Witbier: 0.9999788016757871\n",
            "Beer Style: California Common / Steam Beer similar to: Hefeweizen: 0.9999953511197068\n",
            "Beer Style: California Common / Steam Beer similar to: Foreign / Export Stout: 0.9999916921389199\n",
            "Beer Style: California Common / Steam Beer similar to: American Blonde Ale: 0.9999912960221073\n",
            "Beer Style: California Common / Steam Beer similar to: Old Ale: 0.9999906977429374\n",
            "Beer Style: California Common / Steam Beer similar to: Baltic Porter: 0.999985580207572\n",
            "Beer Style: American Porter similar to: Smoked Beer: 0.9999980165625508\n",
            "Beer Style: American Porter similar to: Milk / Sweet Stout: 0.9999873622329496\n",
            "Beer Style: American Porter similar to: English India Pale Ale (IPA): 0.9999862851431319\n",
            "Beer Style: American Porter similar to: American Black Ale: 0.9999841462261737\n",
            "Beer Style: American Porter similar to: Belgian IPA: 0.9999803887690659\n",
            "Beer Style: Eisbock similar to: Flanders Oud Bruin: 0.9998586695560321\n",
            "Beer Style: Eisbock similar to: Weizenbock: 0.9998562140006713\n",
            "Beer Style: Eisbock similar to: Gueuze: 0.9998407716748466\n",
            "Beer Style: Eisbock similar to: English Barleywine: 0.9998086646783857\n",
            "Beer Style: Eisbock similar to: American Barleywine: 0.9997499194836315\n",
            "Beer Style: Oatmeal Stout similar to: Belgian Pale Ale: 0.9999959097303268\n",
            "Beer Style: Oatmeal Stout similar to: American IPA: 0.9999944041103532\n",
            "Beer Style: Oatmeal Stout similar to: Belgian Strong Pale Ale: 0.9999942003878659\n",
            "Beer Style: Oatmeal Stout similar to: Witbier: 0.9999927643295545\n",
            "Beer Style: Oatmeal Stout similar to: Munich Dunkel Lager: 0.9999839992337757\n",
            "Beer Style: English Pale Mild Ale similar to: Berliner Weissbier: 0.9998665532128044\n",
            "Beer Style: English Pale Mild Ale similar to: American Adjunct Lager: 0.9996727285959137\n",
            "Beer Style: English Pale Mild Ale similar to: Munich Helles Lager: 0.999428679245915\n",
            "Beer Style: English Pale Mild Ale similar to: Black & Tan: 0.9994010107995407\n",
            "Beer Style: English Pale Mild Ale similar to: Euro Pale Lager: 0.9993500745850656\n",
            "Beer Style: American Barleywine similar to: Scotch Ale / Wee Heavy: 0.9999961802973336\n",
            "Beer Style: American Barleywine similar to: English Barleywine: 0.99999536660304\n",
            "Beer Style: American Barleywine similar to: Quadrupel (Quad): 0.9999938486528451\n",
            "Beer Style: American Barleywine similar to: Wheatwine: 0.9999794591640623\n",
            "Beer Style: American Barleywine similar to: Flanders Oud Bruin: 0.9999730012147848\n",
            "Beer Style: American Black Ale similar to: American Brown Ale: 0.9999938104227202\n",
            "Beer Style: American Black Ale similar to: Russian Imperial Stout: 0.9999885462387794\n",
            "Beer Style: American Black Ale similar to: Bière de Garde: 0.9999881597065504\n",
            "Beer Style: American Black Ale similar to: English India Pale Ale (IPA): 0.9999879747470888\n",
            "Beer Style: American Black Ale similar to: Scottish Ale: 0.9999849653536926\n",
            "Beer Style: Herbed / Spiced Beer similar to: Pumpkin Ale: 0.9999407012730055\n",
            "Beer Style: Herbed / Spiced Beer similar to: Fruit / Vegetable Beer: 0.9999338690425773\n",
            "Beer Style: Herbed / Spiced Beer similar to: Winter Warmer: 0.999909597120433\n",
            "Beer Style: Herbed / Spiced Beer similar to: Saison / Farmhouse Ale: 0.999903366074474\n",
            "Beer Style: Herbed / Spiced Beer similar to: Lambic - Fruit: 0.9999029129916881\n",
            "Beer Style: Smoked Beer similar to: American Porter: 0.9999980165625508\n",
            "Beer Style: Smoked Beer similar to: English India Pale Ale (IPA): 0.9999938043765588\n",
            "Beer Style: Smoked Beer similar to: Milk / Sweet Stout: 0.9999881618587838\n",
            "Beer Style: Smoked Beer similar to: American Black Ale: 0.9999847792450006\n",
            "Beer Style: Smoked Beer similar to: Bière de Garde: 0.9999808529788566\n",
            "Beer Style: English India Pale Ale (IPA) similar to: Bière de Garde: 0.9999956222767333\n",
            "Beer Style: English India Pale Ale (IPA) similar to: Belgian Strong Dark Ale: 0.9999942413284846\n",
            "Beer Style: English India Pale Ale (IPA) similar to: Smoked Beer: 0.9999938043765588\n",
            "Beer Style: English India Pale Ale (IPA) similar to: Rauchbier: 0.9999883483763611\n",
            "Beer Style: English India Pale Ale (IPA) similar to: American Black Ale: 0.9999879747470888\n",
            "Beer Style: English Barleywine similar to: American Barleywine: 0.99999536660304\n",
            "Beer Style: English Barleywine similar to: Quadrupel (Quad): 0.9999878952373714\n",
            "Beer Style: English Barleywine similar to: Scotch Ale / Wee Heavy: 0.9999858885701637\n",
            "Beer Style: English Barleywine similar to: Weizenbock: 0.9999834630036658\n",
            "Beer Style: English Barleywine similar to: Flanders Oud Bruin: 0.9999814343384577\n",
            "Beer Style: Bière de Champagne / Bière Brut similar to: American Adjunct Lager: 0.9993632407394389\n",
            "Beer Style: Bière de Champagne / Bière Brut similar to: English Pale Mild Ale: 0.9991642256493304\n",
            "Beer Style: Bière de Champagne / Bière Brut similar to: Black & Tan: 0.9989971722524706\n",
            "Beer Style: Bière de Champagne / Bière Brut similar to: Berliner Weissbier: 0.9989741961254833\n",
            "Beer Style: Bière de Champagne / Bière Brut similar to: Keller Bier / Zwickel Bier: 0.998835790877294\n",
            "Beer Style: Euro Strong Lager similar to: Vienna Lager: 0.9999191613327146\n",
            "Beer Style: Euro Strong Lager similar to: Czech Pilsener: 0.9997701777680162\n",
            "Beer Style: Euro Strong Lager similar to: American Dark Wheat Ale: 0.999769271020332\n",
            "Beer Style: Euro Strong Lager similar to: Gose: 0.9997210974943436\n",
            "Beer Style: Euro Strong Lager similar to: Kölsch: 0.9997140673198099\n",
            "Beer Style: Irish Red Ale similar to: American Pale Wheat Ale: 0.9999596881207972\n",
            "Beer Style: Irish Red Ale similar to: Belgian Dark Ale: 0.9999407643329071\n",
            "Beer Style: Irish Red Ale similar to: English Pale Ale: 0.9999333325645368\n",
            "Beer Style: Irish Red Ale similar to: Munich Dunkel Lager: 0.9999286044371368\n",
            "Beer Style: Irish Red Ale similar to: American Pale Ale (APA): 0.9999270148454452\n",
            "Beer Style: Kölsch similar to: Czech Pilsener: 0.9999801571687771\n",
            "Beer Style: Kölsch similar to: American Pale Lager: 0.9999708811163619\n",
            "Beer Style: Kölsch similar to: Dortmunder / Export Lager: 0.9999543061667535\n",
            "Beer Style: Kölsch similar to: Gose: 0.9999531051688003\n",
            "Beer Style: Kölsch similar to: Cream Ale: 0.9999400476872615\n",
            "Beer Style: English Strong Ale similar to: Chile Beer: 0.9999672387045162\n",
            "Beer Style: English Strong Ale similar to: Scottish Gruit / Ancient Herbed Ale: 0.9999558522414455\n",
            "Beer Style: English Strong Ale similar to: American Amber / Red Lager: 0.9999499953363077\n",
            "Beer Style: English Strong Ale similar to: Scotch Ale / Wee Heavy: 0.9999455611692597\n",
            "Beer Style: English Strong Ale similar to: English Porter: 0.999939799472957\n",
            "Beer Style: Dunkelweizen similar to: American Stout: 0.9999993166509181\n",
            "Beer Style: Dunkelweizen similar to: Munich Dunkel Lager: 0.9999837802921328\n",
            "Beer Style: Dunkelweizen similar to: Winter Warmer: 0.9999767882438899\n",
            "Beer Style: Dunkelweizen similar to: Milk / Sweet Stout: 0.9999742659256156\n",
            "Beer Style: Dunkelweizen similar to: Belgian IPA: 0.9999710756564042\n",
            "Beer Style: Munich Dunkel Lager similar to: American Stout: 0.9999862743539935\n",
            "Beer Style: Munich Dunkel Lager similar to: Belgian Pale Ale: 0.9999858456656823\n",
            "Beer Style: Munich Dunkel Lager similar to: American Pale Ale (APA): 0.9999856157189484\n",
            "Beer Style: Munich Dunkel Lager similar to: Oatmeal Stout: 0.9999839992337757\n",
            "Beer Style: Munich Dunkel Lager similar to: Dunkelweizen: 0.9999837802921328\n",
            "Beer Style: Flanders Oud Bruin similar to: English Barleywine: 0.9999814343384577\n",
            "Beer Style: Flanders Oud Bruin similar to: American Wild Ale: 0.9999741545410956\n",
            "Beer Style: Flanders Oud Bruin similar to: American Barleywine: 0.9999730012147848\n",
            "Beer Style: Flanders Oud Bruin similar to: Scotch Ale / Wee Heavy: 0.9999725560014067\n",
            "Beer Style: Flanders Oud Bruin similar to: Gueuze: 0.9999634511232817\n",
            "Beer Style: American Malt Liquor similar to: Light Lager: 0.9999544986930432\n",
            "Beer Style: American Malt Liquor similar to: Irish Dry Stout: 0.9998909403698737\n",
            "Beer Style: American Malt Liquor similar to: Euro Pale Lager: 0.9996681206881275\n",
            "Beer Style: American Malt Liquor similar to: Black & Tan: 0.9996189869546581\n",
            "Beer Style: American Malt Liquor similar to: Kristalweizen: 0.999557505401518\n",
            "Beer Style: Altbier similar to: American Black Ale: 0.9999803103098746\n",
            "Beer Style: Altbier similar to: Extra Special / Strong Bitter (ESB): 0.9999792489381877\n",
            "Beer Style: Altbier similar to: Scottish Ale: 0.9999727749573069\n",
            "Beer Style: Altbier similar to: American Brown Ale: 0.9999702081491839\n",
            "Beer Style: Altbier similar to: Märzen / Oktoberfest: 0.9999646261998174\n",
            "Beer Style: Winter Warmer similar to: American IPA: 0.9999933950228955\n",
            "Beer Style: Winter Warmer similar to: Saison / Farmhouse Ale: 0.9999842103410722\n",
            "Beer Style: Winter Warmer similar to: Oatmeal Stout: 0.9999825492781198\n",
            "Beer Style: Winter Warmer similar to: English Brown Ale: 0.9999816647120338\n",
            "Beer Style: Winter Warmer similar to: Munich Dunkel Lager: 0.9999814969137956\n",
            "Beer Style: Belgian Strong Dark Ale similar to: Rauchbier: 0.9999972344615009\n",
            "Beer Style: Belgian Strong Dark Ale similar to: Tripel: 0.999995022879351\n",
            "Beer Style: Belgian Strong Dark Ale similar to: Bière de Garde: 0.9999949033787171\n",
            "Beer Style: Belgian Strong Dark Ale similar to: English India Pale Ale (IPA): 0.9999942413284846\n",
            "Beer Style: Belgian Strong Dark Ale similar to: Rye Beer: 0.9999902506595443\n",
            "Beer Style: Tripel similar to: Belgian Strong Dark Ale: 0.999995022879351\n",
            "Beer Style: Tripel similar to: Rauchbier: 0.9999926422874437\n",
            "Beer Style: Tripel similar to: Rye Beer: 0.999991298395982\n",
            "Beer Style: Tripel similar to: American Double / Imperial Stout: 0.9999895451981177\n",
            "Beer Style: Tripel similar to: Bière de Garde: 0.9999870578198355\n",
            "Beer Style: Gueuze similar to: Weizenbock: 0.9999664946189121\n",
            "Beer Style: Gueuze similar to: Flanders Oud Bruin: 0.9999634511232817\n",
            "Beer Style: Gueuze similar to: English Barleywine: 0.9999463960547892\n",
            "Beer Style: Gueuze similar to: American Wild Ale: 0.9999434511580907\n",
            "Beer Style: Gueuze similar to: American Barleywine: 0.9999305382226021\n",
            "Beer Style: Czech Pilsener similar to: Kölsch: 0.9999801571687771\n",
            "Beer Style: Czech Pilsener similar to: Keller Bier / Zwickel Bier: 0.9999627389867061\n",
            "Beer Style: Czech Pilsener similar to: Bock: 0.9999324794397922\n",
            "Beer Style: Czech Pilsener similar to: Vienna Lager: 0.9999204863173236\n",
            "Beer Style: Czech Pilsener similar to: American Pale Lager: 0.9999188619517689\n",
            "Beer Style: Fruit / Vegetable Beer similar to: Lambic - Fruit: 0.9999861442906132\n",
            "Beer Style: Fruit / Vegetable Beer similar to: English Brown Ale: 0.9999853693950821\n",
            "Beer Style: Fruit / Vegetable Beer similar to: American Double / Imperial IPA: 0.9999811372102321\n",
            "Beer Style: Fruit / Vegetable Beer similar to: Winter Warmer: 0.9999790703113366\n",
            "Beer Style: Fruit / Vegetable Beer similar to: American IPA: 0.9999610193303945\n",
            "Beer Style: Munich Helles Lager similar to: English Bitter: 0.9999864219901289\n",
            "Beer Style: Munich Helles Lager similar to: Euro Pale Lager: 0.9999737232681776\n",
            "Beer Style: Munich Helles Lager similar to: Kristalweizen: 0.9999703105522116\n",
            "Beer Style: Munich Helles Lager similar to: Black & Tan: 0.9999512721895802\n",
            "Beer Style: Munich Helles Lager similar to: Keller Bier / Zwickel Bier: 0.9999493888640303\n",
            "Beer Style: Chile Beer similar to: English Strong Ale: 0.9999672387045162\n",
            "Beer Style: Chile Beer similar to: Scottish Gruit / Ancient Herbed Ale: 0.9999376055992997\n",
            "Beer Style: Chile Beer similar to: English Porter: 0.9998958603646911\n",
            "Beer Style: Chile Beer similar to: American Wild Ale: 0.9998537870869694\n",
            "Beer Style: Chile Beer similar to: American Amber / Red Lager: 0.9998508509233187\n",
            "Beer Style: Lambic - Unblended similar to: Flanders Red Ale: 0.9997192470883838\n",
            "Beer Style: Lambic - Unblended similar to: English Dark Mild Ale: 0.9995655736011594\n",
            "Beer Style: Lambic - Unblended similar to: Gueuze: 0.9995642747057804\n",
            "Beer Style: Lambic - Unblended similar to: Eisbock: 0.9995512417878238\n",
            "Beer Style: Lambic - Unblended similar to: American Wild Ale: 0.9994839914789039\n",
            "Beer Style: Light Lager similar to: Irish Dry Stout: 0.9999656966327493\n",
            "Beer Style: Light Lager similar to: American Malt Liquor: 0.9999544986930432\n",
            "Beer Style: Light Lager similar to: Euro Pale Lager: 0.9998120956994115\n",
            "Beer Style: Light Lager similar to: Kristalweizen: 0.9997494962338718\n",
            "Beer Style: Light Lager similar to: Black & Tan: 0.9997192946416256\n",
            "Beer Style: Saison / Farmhouse Ale similar to: American IPA: 0.9999850999661952\n",
            "Beer Style: Saison / Farmhouse Ale similar to: Belgian Pale Ale: 0.9999850928901222\n",
            "Beer Style: Saison / Farmhouse Ale similar to: Winter Warmer: 0.9999842103410722\n",
            "Beer Style: Saison / Farmhouse Ale similar to: Oatmeal Stout: 0.999977504846192\n",
            "Beer Style: Saison / Farmhouse Ale similar to: Munich Dunkel Lager: 0.9999760974570177\n",
            "Beer Style: Schwarzbier similar to: Märzen / Oktoberfest: 0.9999957719651326\n",
            "Beer Style: Schwarzbier similar to: Extra Special / Strong Bitter (ESB): 0.9999826137841222\n",
            "Beer Style: Schwarzbier similar to: Bock: 0.9999769007406905\n",
            "Beer Style: Schwarzbier similar to: Scottish Ale: 0.9999584423151061\n",
            "Beer Style: Schwarzbier similar to: Altbier: 0.9999485872173944\n",
            "Beer Style: Rauchbier similar to: Belgian Strong Dark Ale: 0.9999972344615009\n",
            "Beer Style: Rauchbier similar to: American Double / Imperial Stout: 0.9999954701566232\n",
            "Beer Style: Rauchbier similar to: Tripel: 0.9999926422874437\n",
            "Beer Style: Rauchbier similar to: English India Pale Ale (IPA): 0.9999883483763611\n",
            "Beer Style: Rauchbier similar to: Bière de Garde: 0.999984861339595\n",
            "Beer Style: Weizenbock similar to: English Barleywine: 0.9999834630036658\n",
            "Beer Style: Weizenbock similar to: Gueuze: 0.9999664946189121\n",
            "Beer Style: Weizenbock similar to: Wheatwine: 0.9999649826253474\n",
            "Beer Style: Weizenbock similar to: American Barleywine: 0.999964816423119\n",
            "Beer Style: Weizenbock similar to: Flanders Oud Bruin: 0.999963153721238\n",
            "Beer Style: Black & Tan similar to: Munich Helles Lager: 0.9999512721895802\n",
            "Beer Style: Black & Tan similar to: Euro Pale Lager: 0.9999478967854466\n",
            "Beer Style: Black & Tan similar to: Keller Bier / Zwickel Bier: 0.9999399515500627\n",
            "Beer Style: Black & Tan similar to: American Adjunct Lager: 0.9999380821505165\n",
            "Beer Style: Black & Tan similar to: English Bitter: 0.9999027736412676\n",
            "Beer Style: American Amber / Red Ale similar to: Dubbel: 0.999990367764529\n",
            "Beer Style: American Amber / Red Ale similar to: American Double / Imperial Pilsner: 0.9999870539335249\n",
            "Beer Style: American Amber / Red Ale similar to: Belgian IPA: 0.9999839263398987\n",
            "Beer Style: American Amber / Red Ale similar to: American Pale Ale (APA): 0.9999832090726367\n",
            "Beer Style: American Amber / Red Ale similar to: Extra Special / Strong Bitter (ESB): 0.9999819444782211\n",
            "Beer Style: English Dark Mild Ale similar to: Gueuze: 0.9998943008686478\n",
            "Beer Style: English Dark Mild Ale similar to: Lambic - Fruit: 0.9998366806312671\n",
            "Beer Style: English Dark Mild Ale similar to: Herbed / Spiced Beer: 0.9998255377638421\n",
            "Beer Style: English Dark Mild Ale similar to: American Double / Imperial IPA: 0.9998046335234146\n",
            "Beer Style: English Dark Mild Ale similar to: Fruit / Vegetable Beer: 0.9997905859214693\n",
            "Beer Style: Low Alcohol Beer similar to: Braggot: 0.9994958196897166\n",
            "Beer Style: Low Alcohol Beer similar to: English Stout: 0.9974280204619153\n",
            "Beer Style: Low Alcohol Beer similar to: Pumpkin Ale: 0.9970232829651766\n",
            "Beer Style: Low Alcohol Beer similar to: Euro Dark Lager: 0.9969507288805579\n",
            "Beer Style: Low Alcohol Beer similar to: Kvass: 0.9967545474261499\n",
            "Beer Style: Sahti similar to: Bière de Champagne / Bière Brut: 0.9978396995529469\n",
            "Beer Style: Sahti similar to: English Pale Mild Ale: 0.9976071024362775\n",
            "Beer Style: Sahti similar to: American Malt Liquor: 0.9972964791675015\n",
            "Beer Style: Sahti similar to: American Adjunct Lager: 0.9970243775255575\n",
            "Beer Style: Sahti similar to: Light Lager: 0.996615025987271\n"
          ]
        }
      ],
      "source": [
        "import dask.array as da\n",
        "import numpy as np\n",
        "import math\n",
        "\n",
        "def cosine_similarity(u, v):\n",
        "\n",
        "    dot_product = (u * v).sum()\n",
        "    norm_u = math.sqrt((u * u).sum())\n",
        "    norm_v = math.sqrt((v * v).sum())\n",
        "    similarity = dot_product / (norm_u * norm_v)\n",
        "\n",
        "    return similarity\n",
        "\n",
        "def calculate_cosine_similarity(style_vectors):\n",
        "\n",
        "    combinations = style_vectors.product(style_vectors).filter(lambda x: x[0][0] != x[1][0])\n",
        "    similarities = combinations.map(lambda x: (x[0][0], x[1][0], cosine_similarity(x[0][1], x[1][1])))\n",
        "    grouped_similarities = similarities.groupby(lambda x: x[0])\n",
        "    top_5_per_style = grouped_similarities.map(lambda x: sorted(list(x[1]), key=lambda y: y[2], reverse=True)[:5])\n",
        "\n",
        "    return top_5_per_style\n",
        "\n",
        "similarities = calculate_cosine_similarity(style_vectors)\n",
        "\n",
        "for items in similarities:\n",
        "    for style1, style2, similarity in items:\n",
        "        print(f\"Beer Style: {style1} similar to: {style2}: {similarity}\")\n"
      ]
    },
    {
      "cell_type": "markdown",
      "source": [
        "#download a set of stop words that we can ignore because they are not interesting"
      ],
      "metadata": {
        "id": "nJz6UM_KcZLo"
      }
    },
    {
      "cell_type": "markdown",
      "metadata": {
        "id": "7ugtgLBDRg7w"
      },
      "source": [
        "Stop words (ignore simple words eg (the,a,i,am etc)) from sample code."
      ]
    },
    {
      "cell_type": "code",
      "execution_count": 14,
      "metadata": {
        "id": "9bMSl1UQELy8",
        "colab": {
          "base_uri": "https://localhost:8080/"
        },
        "outputId": "05e28c27-42cd-4e0f-9fff-99bfd8308e11"
      },
      "outputs": [
        {
          "output_type": "stream",
          "name": "stdout",
          "text": [
            "Requirement already satisfied: nltk in /usr/local/lib/python3.10/dist-packages (3.8.1)\n",
            "Requirement already satisfied: click in /usr/local/lib/python3.10/dist-packages (from nltk) (8.1.7)\n",
            "Requirement already satisfied: joblib in /usr/local/lib/python3.10/dist-packages (from nltk) (1.4.2)\n",
            "Requirement already satisfied: regex>=2021.8.3 in /usr/local/lib/python3.10/dist-packages (from nltk) (2024.5.15)\n",
            "Requirement already satisfied: tqdm in /usr/local/lib/python3.10/dist-packages (from nltk) (4.66.4)\n",
            "{'this', 'needn', 'hasn', 'the', 're', 't', \"needn't\", 'most', 'nor', \"wasn't\", 'up', 'no', \"weren't\", \"hadn't\", \"isn't\", 'them', 'these', 'had', 'our', 'each', 'can', 'she', 'yourself', 'whom', 'in', 'don', 've', 'with', 'into', 'being', \"you've\", 'own', 'they', 'any', 'but', \"aren't\", 'are', 'be', 'did', \"don't\", 'so', 'between', 'such', \"won't\", 'if', 'didn', 'i', 'further', 'about', \"mustn't\", 'some', 'couldn', 'before', 'again', 'y', 'is', \"doesn't\", 'itself', 'weren', 'what', 'at', \"couldn't\", \"didn't\", 'hadn', 'or', 'wouldn', 'we', 'an', 'above', 'doesn', 'under', \"that'll\", 'has', 'he', 'do', 'those', \"shan't\", \"it's\", 'while', 'wasn', 'because', 'you', \"shouldn't\", 'by', 'hers', 's', 'just', 'herself', 'once', \"mightn't\", 'where', \"you'll\", 'then', 'her', 'both', 'mustn', 'was', 'on', 'his', 'until', 'all', 'having', 'haven', 'shouldn', \"hasn't\", 'o', 'shan', \"you're\", 'of', 'theirs', 'himself', 'myself', 'same', 'its', 'which', 'me', 'should', 'ours', 'only', 'who', 'aren', 'than', 'doing', 'my', 'm', 'that', 'mightn', 'to', 'themselves', 'am', 'more', 'how', 'as', 'now', 'why', 'against', 'd', 'from', 'down', 'isn', 'below', 'it', 'few', 'too', 'not', 'were', 'yourselves', 'have', 'does', 'out', 'over', 'been', 'there', \"haven't\", 'and', 'after', 'ain', 'very', 'him', 'for', 'through', \"should've\", 'during', 'won', 'off', 'ourselves', 'yours', \"she's\", \"wouldn't\", \"you'd\", 'other', 'a', 'here', 'll', 'ma', 'when', 'your', 'will', 'their'}\n"
          ]
        },
        {
          "output_type": "stream",
          "name": "stderr",
          "text": [
            "[nltk_data] Downloading package stopwords to /root/nltk_data...\n",
            "[nltk_data]   Unzipping corpora/stopwords.zip.\n"
          ]
        }
      ],
      "source": [
        "!pip install nltk\n",
        "\n",
        "import nltk\n",
        "nltk.download('stopwords')\n",
        "\n",
        "from nltk.corpus import stopwords\n",
        "\n",
        "STOP_WORDS = set(stopwords.words('english'))\n",
        "print(STOP_WORDS)\n"
      ]
    },
    {
      "cell_type": "markdown",
      "source": [
        "\n",
        "#A prior\n"
      ],
      "metadata": {
        "id": "397kQoISabmV"
      }
    },
    {
      "cell_type": "markdown",
      "metadata": {
        "id": "YTVcjT0M4F-e"
      },
      "source": [
        "Top most freq words, (not sorted) by beer/style"
      ]
    },
    {
      "cell_type": "code",
      "source": [
        "import json\n",
        "import dask.bag as db\n",
        "\n",
        "def extract_beer_style_and_rating(json_string):\n",
        "    data = json.loads(json_string)\n",
        "    beer_style = data.get(\"beer/style\", \"\")\n",
        "    taste = data.get(\"review/text\", \"\")\n",
        "    return beer_style, taste\n",
        "\n",
        "def stop_words(text):\n",
        "\n",
        "    words = text.lower().split()\n",
        "    filtered_words = [word for word in words if word not in STOP_WORDS and word.isalpha()]\n",
        "    return filtered_words\n",
        "\n",
        "def a_priori_step1(text_file_bag):\n",
        "\n",
        "    words = text_file_bag.map(stop_words)\n",
        "    flat_words = words.flatten()\n",
        "    word_frequencies = flat_words.frequencies()\n",
        "    return word_frequencies\n",
        "\n",
        "def beer_style_words(text_file_bag):\n",
        "\n",
        "    beer_styles_and_ratings = text_file_bag.map(extract_beer_style_and_rating)\n",
        "    grouped_by_style = beer_styles_and_ratings.groupby(lambda x: x[0])\n",
        "    concatenated_reviews = grouped_by_style.map(lambda style_group: (style_group[0], '\\n'.join([entry[1] for entry in style_group[1]])))\n",
        "    word_frequencies = concatenated_reviews.map(lambda kv: (kv[0], a_priori_step1(db.from_sequence([kv[1]]))))\n",
        "    top_10_words = word_frequencies.map(lambda kv: (kv[0], kv[1].topk(10, key=lambda x: x[1])))\n",
        "\n",
        "    return top_10_words\n",
        "\n",
        "styles_frequencies = beer_style_words(data_bag)\n",
        "\n",
        "for style, frequencies in styles_frequencies:\n",
        "    print(f\"Beer Style: {style}\")\n",
        "    print(f\"Word Frequencies: {frequencies.compute()}\")\n"
      ],
      "metadata": {
        "id": "GxQLsJGgc89o",
        "colab": {
          "base_uri": "https://localhost:8080/"
        },
        "outputId": "fecf3b2c-6882-4766-85bd-20548f7e46f5"
      },
      "execution_count": 15,
      "outputs": [
        {
          "output_type": "stream",
          "name": "stdout",
          "text": [
            "Beer Style: English Porter\n",
            "Word Frequencies: [('dark', 54), ('beer', 48), ('head', 42), ('coffee', 40), ('chocolate', 39), ('roasted', 38), ('light', 38), ('nice', 37), ('brown', 37), ('good', 33)]\n",
            "Beer Style: American Double / Imperial IPA\n",
            "Word Frequencies: [('hops', 328), ('hop', 324), ('nice', 322), ('good', 268), ('head', 261), ('beer', 258), ('citrus', 244), ('malt', 240), ('sweet', 230), ('taste', 203)]\n",
            "Beer Style: Witbier\n",
            "Word Frequencies: [('light', 142), ('beer', 128), ('head', 112), ('taste', 106), ('white', 106), ('nice', 101), ('good', 85), ('orange', 84), ('citrus', 84), ('like', 80)]\n",
            "Beer Style: Keller Bier / Zwickel Bier\n",
            "Word Frequencies: [('beer', 18), ('nice', 16), ('white', 16), ('sweet', 16), ('head', 15), ('light', 14), ('taste', 13), ('bit', 12), ('hop', 12), ('hops', 11)]\n",
            "Beer Style: Belgian Dark Ale\n",
            "Word Frequencies: [('dark', 54), ('light', 34), ('brown', 30), ('head', 29), ('taste', 29), ('good', 27), ('nice', 25), ('sweet', 25), ('beer', 23), ('bit', 22)]\n",
            "Beer Style: Berliner Weissbier\n",
            "Word Frequencies: [('light', 24), ('sour', 24), ('peach', 13), ('bit', 11), ('head', 10), ('like', 10), ('little', 10), ('pale', 9), ('tart', 9), ('taste', 8)]\n",
            "Beer Style: Lambic - Unblended\n",
            "Word Frequencies: [('light', 14), ('nice', 9), ('notes', 8), ('tart', 7), ('quite', 7), ('white', 6), ('taste', 6), ('beer', 6), ('head', 6), ('really', 6)]\n",
            "Beer Style: California Common / Steam Beer\n",
            "Word Frequencies: [('nice', 33), ('light', 28), ('beer', 20), ('sweet', 18), ('good', 16), ('malt', 16), ('head', 14), ('little', 13), ('pours', 13), ('color', 13)]\n",
            "Beer Style: Bière de Champagne / Bière Brut\n",
            "Word Frequencies: [('nice', 3), ('sweet', 3), ('thanks', 2), ('pours', 2), ('white', 2), ('sparkling', 2), ('fruit', 2), ('beer', 2), ('would', 2), ('masterski', 1)]\n",
            "Beer Style: American Brown Ale\n",
            "Word Frequencies: [('brown', 171), ('nice', 113), ('beer', 106), ('dark', 92), ('head', 83), ('taste', 78), ('light', 74), ('malt', 72), ('good', 69), ('sweet', 66)]\n",
            "Beer Style: Scottish Ale\n",
            "Word Frequencies: [('malt', 48), ('sweet', 43), ('caramel', 42), ('beer', 41), ('head', 40), ('light', 39), ('nice', 37), ('taste', 34), ('bit', 34), ('little', 31)]\n",
            "Beer Style: American Porter\n",
            "Word Frequencies: [('dark', 308), ('coffee', 219), ('roasted', 206), ('nice', 201), ('chocolate', 199), ('head', 179), ('beer', 164), ('light', 161), ('brown', 160), ('good', 153)]\n",
            "Beer Style: American Double / Imperial Stout\n",
            "Word Frequencies: [('dark', 246), ('coffee', 220), ('chocolate', 213), ('black', 175), ('beer', 174), ('head', 156), ('nice', 150), ('roasted', 138), ('one', 127), ('taste', 119)]\n",
            "Beer Style: Light Lager\n",
            "Word Frequencies: [('light', 115), ('beer', 66), ('taste', 63), ('like', 51), ('head', 38), ('white', 32), ('yellow', 32), ('good', 30), ('much', 29), ('smell', 27)]\n",
            "Beer Style: Bock\n",
            "Word Frequencies: [('nice', 52), ('dark', 52), ('sweet', 48), ('beer', 47), ('head', 44), ('good', 44), ('taste', 43), ('light', 41), ('bit', 37), ('malt', 37)]\n",
            "Beer Style: Eisbock\n",
            "Word Frequencies: [('dark', 20), ('malt', 15), ('alcohol', 15), ('sweet', 13), ('beer', 13), ('brown', 12), ('chocolate', 10), ('head', 10), ('bottle', 9), ('little', 9)]\n",
            "Beer Style: Wheatwine\n",
            "Word Frequencies: [('nice', 17), ('wheat', 15), ('beer', 13), ('alcohol', 13), ('sweet', 13), ('malt', 12), ('bit', 12), ('color', 9), ('bourbon', 8), ('white', 8)]\n",
            "Beer Style: Gose\n",
            "Word Frequencies: [('sour', 5), ('gose', 4), ('thick', 3), ('little', 2), ('well', 2), ('first', 2), ('would', 2), ('definitely', 2), ('bit', 2), ('wheat', 2)]\n",
            "Beer Style: Russian Imperial Stout\n",
            "Word Frequencies: [('dark', 347), ('chocolate', 206), ('roasted', 199), ('black', 197), ('head', 162), ('nice', 162), ('beer', 155), ('coffee', 154), ('taste', 143), ('alcohol', 142)]\n",
            "Beer Style: American Stout\n",
            "Word Frequencies: [('dark', 135), ('chocolate', 133), ('coffee', 130), ('roasted', 113), ('head', 105), ('beer', 97), ('nice', 97), ('taste', 86), ('black', 85), ('stout', 74)]\n",
            "Beer Style: Euro Strong Lager\n",
            "Word Frequencies: [('alcohol', 7), ('beer', 7), ('white', 5), ('much', 5), ('like', 5), ('little', 5), ('pours', 4), ('flavor', 4), ('golden', 3), ('sweet', 3)]\n",
            "Beer Style: Lambic - Fruit\n",
            "Word Frequencies: [('sour', 49), ('like', 43), ('cherry', 38), ('light', 35), ('nice', 35), ('tart', 32), ('beer', 31), ('flavor', 30), ('sweet', 29), ('taste', 28)]\n",
            "Beer Style: Happoshu\n",
            "Word Frequencies: [('taste', 4), ('almost', 3), ('beer', 2), ('color', 2), ('aroma', 2), ('trace', 2), ('malt', 2), ('slightly', 2), ('like', 2), ('mouthfeel', 2)]\n",
            "Beer Style: Bière de Garde\n",
            "Word Frequencies: [('beer', 40), ('head', 33), ('light', 27), ('like', 24), ('nice', 21), ('bit', 20), ('medium', 20), ('white', 20), ('sour', 19), ('malt', 18)]\n",
            "Beer Style: Irish Red Ale\n",
            "Word Frequencies: [('caramel', 21), ('sweet', 21), ('head', 17), ('taste', 17), ('beer', 16), ('nice', 16), ('red', 15), ('amber', 15), ('color', 14), ('medium', 14)]\n",
            "Beer Style: Flanders Red Ale\n",
            "Word Frequencies: [('beer', 50), ('sour', 44), ('tart', 32), ('cherry', 28), ('head', 23), ('nice', 21), ('one', 21), ('like', 19), ('sweet', 19), ('flavor', 19)]\n",
            "Beer Style: Saison / Farmhouse Ale\n",
            "Word Frequencies: [('light', 146), ('head', 138), ('nice', 129), ('beer', 128), ('white', 114), ('good', 97), ('taste', 92), ('pours', 81), ('bit', 76), ('bottle', 73)]\n",
            "Beer Style: Oatmeal Stout\n",
            "Word Frequencies: [('roasted', 91), ('dark', 88), ('head', 74), ('chocolate', 73), ('black', 71), ('nice', 65), ('coffee', 61), ('oatmeal', 60), ('light', 56), ('bit', 51)]\n",
            "Beer Style: Maibock / Helles Bock\n",
            "Word Frequencies: [('beer', 53), ('sweet', 45), ('head', 44), ('nice', 44), ('white', 39), ('light', 37), ('medium', 34), ('malt', 34), ('good', 32), ('bit', 28)]\n",
            "Beer Style: Scotch Ale / Wee Heavy\n",
            "Word Frequencies: [('dark', 102), ('sweet', 75), ('beer', 73), ('head', 68), ('brown', 65), ('nice', 62), ('alcohol', 54), ('good', 54), ('malt', 54), ('pours', 53)]\n",
            "Beer Style: Schwarzbier\n",
            "Word Frequencies: [('dark', 55), ('beer', 51), ('head', 41), ('nice', 40), ('black', 33), ('light', 33), ('good', 33), ('chocolate', 33), ('roasted', 32), ('malt', 32)]\n",
            "Beer Style: Cream Ale\n",
            "Word Frequencies: [('light', 20), ('beer', 20), ('bit', 17), ('head', 16), ('sweet', 15), ('taste', 14), ('one', 13), ('little', 12), ('good', 11), ('smell', 11)]\n",
            "Beer Style: Rauchbier\n",
            "Word Frequencies: [('smoke', 31), ('beer', 19), ('like', 17), ('bit', 16), ('good', 14), ('malt', 13), ('smoked', 12), ('taste', 12), ('little', 12), ('aroma', 10)]\n",
            "Beer Style: Japanese Rice Lager\n",
            "Word Frequencies: [('little', 7), ('hop', 6), ('would', 6), ('light', 6), ('rice', 4), ('beer', 4), ('nice', 4), ('pale', 4), ('aroma', 4), ('nose', 3)]\n",
            "Beer Style: Kristalweizen\n",
            "Word Frequencies: [('beer', 13), ('head', 13), ('banana', 11), ('good', 10), ('wheat', 10), ('light', 9), ('taste', 9), ('nice', 8), ('clear', 7), ('white', 7)]\n",
            "Beer Style: Belgian IPA\n",
            "Word Frequencies: [('belgian', 71), ('nice', 63), ('beer', 57), ('head', 54), ('hops', 51), ('hop', 50), ('like', 49), ('light', 46), ('sweet', 44), ('good', 44)]\n",
            "Beer Style: American Pale Ale (APA)\n",
            "Word Frequencies: [('nice', 312), ('beer', 279), ('light', 264), ('head', 260), ('hops', 256), ('good', 254), ('malt', 246), ('hop', 233), ('pale', 217), ('taste', 197)]\n",
            "Beer Style: Weizenbock\n",
            "Word Frequencies: [('nice', 47), ('head', 38), ('dark', 31), ('bit', 29), ('alcohol', 28), ('beer', 27), ('banana', 26), ('sweet', 25), ('taste', 24), ('pours', 24)]\n",
            "Beer Style: Kölsch\n",
            "Word Frequencies: [('light', 71), ('beer', 44), ('head', 43), ('white', 39), ('nice', 39), ('taste', 37), ('golden', 27), ('good', 27), ('like', 26), ('hop', 25)]\n",
            "Beer Style: Quadrupel (Quad)\n",
            "Word Frequencies: [('dark', 134), ('beer', 129), ('alcohol', 86), ('sweet', 84), ('nice', 77), ('head', 76), ('brown', 71), ('taste', 65), ('good', 54), ('pours', 54)]\n",
            "Beer Style: Dortmunder / Export Lager\n",
            "Word Frequencies: [('nice', 35), ('light', 25), ('beer', 22), ('malt', 22), ('good', 21), ('head', 21), ('white', 20), ('little', 20), ('taste', 17), ('sweet', 16)]\n",
            "Beer Style: English Bitter\n",
            "Word Frequencies: [('light', 40), ('hops', 25), ('head', 22), ('beer', 21), ('malt', 21), ('good', 18), ('bit', 18), ('white', 15), ('flavor', 15), ('nice', 14)]\n",
            "Beer Style: English Stout\n",
            "Word Frequencies: [('dark', 11), ('roasted', 11), ('good', 10), ('nice', 10), ('chocolate', 10), ('light', 9), ('head', 8), ('smooth', 8), ('black', 8), ('stout', 8)]\n",
            "Beer Style: English Pale Mild Ale\n",
            "Word Frequencies: [('mild', 8), ('pale', 5), ('bit', 5), ('malt', 4), ('golden', 3), ('aroma', 3), ('colour', 2), ('soft', 2), ('hop', 2), ('flavour', 2)]\n",
            "Beer Style: English Strong Ale\n",
            "Word Frequencies: [('dark', 12), ('alcohol', 12), ('sweet', 11), ('nice', 10), ('head', 9), ('aroma', 9), ('strong', 9), ('bit', 8), ('hops', 8), ('great', 7)]\n",
            "Beer Style: Black & Tan\n",
            "Word Frequencies: [('black', 16), ('nice', 15), ('roasted', 15), ('beer', 15), ('tan', 13), ('head', 12), ('like', 10), ('taste', 10), ('brown', 9), ('light', 9)]\n",
            "Beer Style: Faro\n",
            "Word Frequencies: [('lambic', 2), ('oak', 2), ('lightly', 2), ('sampled', 1), ('moeder', 1), ('fontainas', 1), ('pours', 1), ('dark', 1), ('golden', 1), ('amber', 1)]\n",
            "Beer Style: Kvass\n",
            "Word Frequencies: [('kvass', 3), ('rye', 3), ('big', 2), ('still', 2), ('color', 2), ('mouthfeel', 2), ('like', 2), ('brown', 2), ('malty', 2), ('dark', 2)]\n",
            "Beer Style: American IPA\n",
            "Word Frequencies: [('nice', 566), ('hop', 490), ('hops', 450), ('head', 408), ('good', 403), ('beer', 373), ('malt', 369), ('citrus', 339), ('taste', 327), ('medium', 316)]\n",
            "Beer Style: American Amber / Red Ale\n",
            "Word Frequencies: [('beer', 214), ('malt', 198), ('nice', 198), ('hops', 198), ('head', 192), ('amber', 191), ('caramel', 164), ('hop', 161), ('good', 147), ('light', 146)]\n",
            "Beer Style: American Barleywine\n",
            "Word Frequencies: [('alcohol', 114), ('head', 98), ('sweet', 98), ('dark', 96), ('nice', 94), ('hops', 83), ('beer', 78), ('taste', 78), ('malt', 77), ('caramel', 77)]\n",
            "Beer Style: American Strong Ale\n",
            "Word Frequencies: [('beer', 115), ('nice', 109), ('good', 95), ('head', 93), ('sweet', 90), ('malt', 80), ('dark', 79), ('hop', 78), ('hops', 74), ('taste', 73)]\n",
            "Beer Style: Dubbel\n",
            "Word Frequencies: [('dark', 118), ('nice', 96), ('brown', 88), ('head', 80), ('sweet', 79), ('good', 71), ('beer', 70), ('taste', 70), ('alcohol', 62), ('carbonation', 58)]\n",
            "Beer Style: Irish Dry Stout\n",
            "Word Frequencies: [('dark', 80), ('roasted', 74), ('beer', 59), ('coffee', 57), ('head', 57), ('taste', 50), ('black', 49), ('good', 48), ('nice', 45), ('light', 44)]\n",
            "Beer Style: Belgian Pale Ale\n",
            "Word Frequencies: [('light', 137), ('nice', 109), ('beer', 105), ('white', 93), ('head', 90), ('taste', 85), ('good', 79), ('belgian', 67), ('sweet', 64), ('bit', 59)]\n",
            "Beer Style: Extra Special / Strong Bitter (ESB)\n",
            "Word Frequencies: [('nice', 83), ('beer', 75), ('good', 68), ('head', 54), ('malt', 54), ('taste', 49), ('hop', 48), ('caramel', 47), ('medium', 46), ('light', 44)]\n",
            "Beer Style: American Blonde Ale\n",
            "Word Frequencies: [('light', 79), ('nice', 53), ('beer', 53), ('white', 52), ('head', 51), ('taste', 44), ('golden', 38), ('hop', 38), ('good', 36), ('hops', 36)]\n",
            "Beer Style: Winter Warmer\n",
            "Word Frequencies: [('beer', 83), ('nice', 78), ('dark', 76), ('head', 66), ('taste', 57), ('good', 57), ('brown', 56), ('malt', 54), ('winter', 52), ('bit', 48)]\n",
            "Beer Style: Dunkelweizen\n",
            "Word Frequencies: [('head', 37), ('beer', 31), ('banana', 30), ('brown', 29), ('good', 28), ('nice', 28), ('taste', 26), ('dark', 26), ('pours', 24), ('little', 23)]\n",
            "Beer Style: Roggenbier\n",
            "Word Frequencies: [('light', 7), ('rye', 6), ('beer', 5), ('taste', 5), ('rich', 4), ('something', 3), ('pours', 3), ('dark', 3), ('medium', 3), ('like', 3)]\n",
            "Beer Style: English Dark Mild Ale\n",
            "Word Frequencies: [('beer', 17), ('dark', 12), ('light', 9), ('brown', 8), ('malt', 6), ('mild', 6), ('sweet', 5), ('taste', 5), ('bit', 5), ('low', 5)]\n",
            "Beer Style: American Adjunct Lager\n",
            "Word Frequencies: [('beer', 154), ('light', 114), ('taste', 86), ('head', 72), ('white', 61), ('like', 60), ('good', 58), ('little', 57), ('pale', 52), ('would', 51)]\n",
            "Beer Style: Doppelbock\n",
            "Word Frequencies: [('dark', 120), ('head', 96), ('nice', 94), ('sweet', 86), ('brown', 85), ('malt', 84), ('beer', 83), ('taste', 78), ('alcohol', 76), ('caramel', 70)]\n",
            "Beer Style: American Black Ale\n",
            "Word Frequencies: [('dark', 83), ('nice', 83), ('black', 66), ('hops', 59), ('roasted', 56), ('hop', 50), ('bit', 49), ('head', 48), ('citrus', 46), ('malt', 46)]\n",
            "Beer Style: American Pale Wheat Ale\n",
            "Word Frequencies: [('wheat', 122), ('light', 112), ('beer', 109), ('head', 72), ('taste', 71), ('white', 68), ('nice', 66), ('bit', 54), ('good', 53), ('aroma', 48)]\n",
            "Beer Style: Belgian Strong Dark Ale\n",
            "Word Frequencies: [('dark', 238), ('beer', 161), ('brown', 145), ('head', 137), ('nice', 135), ('sweet', 128), ('taste', 122), ('alcohol', 117), ('like', 104), ('good', 96)]\n",
            "Beer Style: Pumpkin Ale\n",
            "Word Frequencies: [('pumpkin', 157), ('taste', 56), ('nice', 53), ('like', 48), ('beer', 47), ('head', 44), ('light', 43), ('little', 42), ('spices', 39), ('sweet', 34)]\n",
            "Beer Style: Munich Dunkel Lager\n",
            "Word Frequencies: [('dark', 38), ('good', 38), ('light', 38), ('nice', 37), ('head', 30), ('beer', 30), ('sweet', 30), ('bit', 26), ('taste', 24), ('medium', 24)]\n",
            "Beer Style: Milk / Sweet Stout\n",
            "Word Frequencies: [('dark', 87), ('chocolate', 65), ('roasted', 56), ('nice', 56), ('sweet', 54), ('coffee', 49), ('head', 47), ('brown', 40), ('milk', 39), ('taste', 38)]\n",
            "Beer Style: Herbed / Spiced Beer\n",
            "Word Frequencies: [('beer', 67), ('like', 43), ('light', 42), ('nice', 39), ('head', 34), ('little', 32), ('taste', 29), ('white', 26), ('one', 25), ('bit', 25)]\n",
            "Beer Style: Rye Beer\n",
            "Word Frequencies: [('rye', 85), ('nice', 64), ('beer', 49), ('head', 40), ('taste', 35), ('light', 35), ('medium', 33), ('hops', 33), ('malt', 30), ('great', 29)]\n",
            "Beer Style: Smoked Beer\n",
            "Word Frequencies: [('smoke', 21), ('dark', 17), ('brown', 14), ('like', 14), ('smoked', 14), ('head', 13), ('good', 11), ('aroma', 11), ('beer', 10), ('malt', 10)]\n",
            "Beer Style: Euro Dark Lager\n",
            "Word Frequencies: [('dark', 20), ('malt', 17), ('beer', 16), ('light', 14), ('sweet', 13), ('head', 12), ('taste', 11), ('good', 11), ('like', 10), ('bit', 9)]\n",
            "Beer Style: Vienna Lager\n",
            "Word Frequencies: [('beer', 45), ('nice', 45), ('light', 34), ('sweet', 30), ('good', 30), ('taste', 27), ('malt', 25), ('head', 24), ('hop', 21), ('little', 21)]\n",
            "Beer Style: American Double / Imperial Pilsner\n",
            "Word Frequencies: [('hops', 26), ('good', 21), ('nice', 21), ('hop', 20), ('head', 18), ('beer', 16), ('taste', 16), ('little', 16), ('malt', 16), ('like', 15)]\n",
            "Beer Style: American Pale Lager\n",
            "Word Frequencies: [('beer', 47), ('light', 36), ('head', 33), ('taste', 29), ('white', 27), ('good', 26), ('malt', 25), ('bit', 22), ('like', 21), ('sweet', 21)]\n",
            "Beer Style: Braggot\n",
            "Word Frequencies: [('flavors', 5), ('finishes', 2), ('grainy', 2), ('one', 2), ('extemely', 1), ('fizzy', 1), ('like', 1), ('carbonation', 1), ('chills', 1), ('leaving', 1)]\n",
            "Beer Style: Low Alcohol Beer\n",
            "Word Frequencies: [('alcohol', 4), ('little', 4), ('taste', 3), ('beer', 3), ('beers', 3), ('sweet', 3), ('much', 3), ('like', 2), ('na', 2), ('dont', 2)]\n",
            "Beer Style: Hefeweizen\n",
            "Word Frequencies: [('head', 119), ('wheat', 119), ('beer', 119), ('nice', 108), ('taste', 107), ('light', 103), ('banana', 99), ('good', 96), ('white', 87), ('bit', 67)]\n",
            "Beer Style: English Pale Ale\n",
            "Word Frequencies: [('light', 83), ('beer', 72), ('nice', 71), ('taste', 68), ('head', 63), ('pale', 61), ('white', 56), ('hops', 55), ('good', 52), ('sweet', 50)]\n",
            "Beer Style: English India Pale Ale (IPA)\n",
            "Word Frequencies: [('light', 60), ('hop', 56), ('hops', 54), ('nice', 50), ('good', 50), ('head', 50), ('malt', 41), ('pours', 39), ('little', 38), ('beer', 37)]\n",
            "Beer Style: German Pilsener\n",
            "Word Frequencies: [('beer', 141), ('light', 138), ('head', 112), ('nice', 99), ('good', 97), ('hops', 88), ('taste', 87), ('white', 86), ('hop', 86), ('malt', 85)]\n",
            "Beer Style: Belgian Strong Pale Ale\n",
            "Word Frequencies: [('light', 154), ('beer', 151), ('nice', 134), ('white', 129), ('head', 123), ('taste', 110), ('sweet', 110), ('like', 106), ('good', 98), ('belgian', 97)]\n",
            "Beer Style: American Dark Wheat Ale\n",
            "Word Frequencies: [('beer', 7), ('taste', 5), ('smell', 4), ('decent', 4), ('dark', 3), ('slightly', 3), ('head', 3), ('hint', 3), ('mouthfeel', 3), ('one', 3)]\n",
            "Beer Style: Tripel\n",
            "Word Frequencies: [('beer', 118), ('nice', 116), ('head', 113), ('sweet', 111), ('alcohol', 110), ('taste', 96), ('light', 94), ('white', 89), ('good', 83), ('golden', 75)]\n",
            "Beer Style: Flanders Oud Bruin\n",
            "Word Frequencies: [('sour', 44), ('light', 25), ('nice', 24), ('bit', 22), ('head', 21), ('brown', 20), ('like', 20), ('tart', 17), ('one', 14), ('beer', 14)]\n",
            "Beer Style: Scottish Gruit / Ancient Herbed Ale\n",
            "Word Frequencies: [('beer', 19), ('sweet', 15), ('taste', 13), ('nice', 11), ('head', 10), ('ale', 10), ('one', 10), ('like', 10), ('light', 9), ('pours', 9)]\n",
            "Beer Style: Old Ale\n",
            "Word Frequencies: [('dark', 89), ('beer', 87), ('head', 58), ('nice', 54), ('brown', 54), ('sweet', 51), ('alcohol', 44), ('bit', 38), ('taste', 38), ('hops', 36)]\n",
            "Beer Style: Foreign / Export Stout\n",
            "Word Frequencies: [('dark', 48), ('roasted', 43), ('black', 33), ('nice', 29), ('head', 26), ('coffee', 26), ('chocolate', 25), ('beer', 25), ('brown', 24), ('taste', 22)]\n",
            "Beer Style: American Amber / Red Lager\n",
            "Word Frequencies: [('beer', 42), ('nice', 34), ('light', 34), ('head', 33), ('sweet', 33), ('good', 31), ('malt', 31), ('hops', 25), ('hop', 23), ('bit', 22)]\n",
            "Beer Style: Gueuze\n",
            "Word Frequencies: [('nice', 42), ('sour', 41), ('white', 32), ('good', 31), ('tart', 28), ('light', 27), ('beer', 25), ('head', 25), ('bit', 24), ('taste', 23)]\n",
            "Beer Style: American Malt Liquor\n",
            "Word Frequencies: [('taste', 15), ('malt', 14), ('one', 13), ('light', 12), ('head', 11), ('alcohol', 11), ('corn', 10), ('good', 9), ('little', 8), ('golden', 8)]\n",
            "Beer Style: Sahti\n",
            "Word Frequencies: [('like', 3), ('dark', 2), ('head', 2), ('followed', 2), ('going', 2), ('sahti', 2), ('something', 2), ('purchased', 1), ('bottle', 1), ('big', 1)]\n",
            "Beer Style: Märzen / Oktoberfest\n",
            "Word Frequencies: [('sweet', 101), ('nice', 99), ('beer', 97), ('head', 97), ('good', 87), ('malt', 82), ('light', 80), ('taste', 77), ('bit', 72), ('pours', 63)]\n",
            "Beer Style: Czech Pilsener\n",
            "Word Frequencies: [('light', 70), ('nice', 66), ('head', 60), ('good', 55), ('beer', 50), ('malt', 44), ('hops', 42), ('taste', 41), ('white', 40), ('bit', 40)]\n",
            "Beer Style: Baltic Porter\n",
            "Word Frequencies: [('dark', 82), ('chocolate', 51), ('roasted', 47), ('taste', 45), ('nice', 42), ('beer', 41), ('head', 38), ('black', 36), ('brown', 35), ('sweet', 34)]\n",
            "Beer Style: American Wild Ale\n",
            "Word Frequencies: [('sour', 107), ('light', 85), ('tart', 80), ('nice', 66), ('beer', 63), ('head', 58), ('white', 55), ('bit', 50), ('flavor', 48), ('carbonation', 48)]\n",
            "Beer Style: Altbier\n",
            "Word Frequencies: [('beer', 50), ('head', 39), ('good', 38), ('nice', 36), ('light', 36), ('taste', 33), ('sweet', 32), ('malt', 32), ('brown', 27), ('little', 26)]\n",
            "Beer Style: English Brown Ale\n",
            "Word Frequencies: [('brown', 156), ('beer', 102), ('nice', 92), ('head', 87), ('sweet', 79), ('good', 78), ('light', 74), ('taste', 70), ('dark', 63), ('pours', 55)]\n",
            "Beer Style: Euro Pale Lager\n",
            "Word Frequencies: [('light', 95), ('beer', 91), ('taste', 68), ('white', 57), ('head', 57), ('good', 52), ('like', 45), ('bit', 44), ('sweet', 42), ('nice', 41)]\n",
            "Beer Style: Fruit / Vegetable Beer\n",
            "Word Frequencies: [('beer', 153), ('light', 108), ('head', 105), ('like', 100), ('taste', 99), ('sweet', 90), ('little', 85), ('nice', 71), ('good', 69), ('fruit', 66)]\n",
            "Beer Style: English Barleywine\n",
            "Word Frequencies: [('sweet', 60), ('dark', 50), ('alcohol', 48), ('beer', 34), ('head', 33), ('taste', 33), ('brown', 32), ('malt', 32), ('pours', 31), ('caramel', 30)]\n",
            "Beer Style: Munich Helles Lager\n",
            "Word Frequencies: [('light', 55), ('malt', 37), ('white', 32), ('good', 29), ('beer', 29), ('head', 26), ('flavor', 21), ('bit', 20), ('taste', 19), ('sweet', 19)]\n",
            "Beer Style: Chile Beer\n",
            "Word Frequencies: [('beer', 14), ('like', 11), ('sweet', 10), ('good', 9), ('pepper', 8), ('medium', 7), ('would', 6), ('spice', 6), ('color', 5), ('light', 5)]\n"
          ]
        }
      ]
    },
    {
      "cell_type": "markdown",
      "source": [
        "For certain beer style , see the most similar beer style, and words that frequently appears."
      ],
      "metadata": {
        "id": "jQMT2AUAdZYx"
      }
    },
    {
      "cell_type": "code",
      "source": [
        "target_beer_style = \"Scottish Ale\"\n",
        "similar_beer_styles = {}\n",
        "\n",
        "for items in similarities:\n",
        "    for style1, style2, similarity in items:\n",
        "        if style1 == target_beer_style and (style2, similarity) not in similar_beer_styles.get(style1, []):\n",
        "            similar_beer_styles.setdefault(style1, []).append((style2, similarity))\n",
        "        if style2 == target_beer_style and (style1, similarity) not in similar_beer_styles.get(style2, []):\n",
        "            similar_beer_styles.setdefault(style2, []).append((style1, similarity))\n",
        "\n",
        "for style, similar_beers in similar_beer_styles.items():\n",
        "    print(\"*\" * 100 )\n",
        "    print(f\"Beer Style: {style}\")\n",
        "    print(\"*\" * 100 )\n",
        "    print(f\"Similar to:\")\n",
        "    print(\"*\" * 100 )\n",
        "    for beer, similarity in similar_beers:\n",
        "        print(f\"{beer}: {similarity}\", end='\\n')\n",
        "        print(\"_\" * 100 )\n",
        "    print()\n",
        "\n",
        "for style, frequencies in styles_frequencies:\n",
        "    if style in target_beer_style:\n",
        "        print(\"*\" * 150 )\n",
        "        print(f\"Beer Style: {style}\\n\")\n",
        "        freq_string = \", \".join([f\"{word}: {freq}\" for word, freq in frequencies.compute()])\n",
        "        print(freq_string)\n",
        "        print(\"*\" * 150 )\n",
        "beer = []\n",
        "for style in similar_beer_styles.items():\n",
        "  for i,j in style[1]:\n",
        "    beer.append(i)\n",
        "\n",
        "for style, frequencies in styles_frequencies:\n",
        "    if style in beer:\n",
        "        # print(\"*\" * 150 )\n",
        "        print(f\"Beer Style: {style}\\n\")\n",
        "        freq_string = \", \".join([f\"{word}: {freq}\" for word, freq in frequencies.compute()])\n",
        "        print(freq_string)\n",
        "        print(\"_\" * 150 )\n"
      ],
      "metadata": {
        "id": "Ob4gr4CGn2Rh",
        "colab": {
          "base_uri": "https://localhost:8080/"
        },
        "outputId": "849351a6-81a9-4a54-ba82-4a532706dd21"
      },
      "execution_count": 16,
      "outputs": [
        {
          "output_type": "stream",
          "name": "stdout",
          "text": [
            "****************************************************************************************************\n",
            "Beer Style: Scottish Ale\n",
            "****************************************************************************************************\n",
            "Similar to:\n",
            "****************************************************************************************************\n",
            "Bock: 0.9999615914511354\n",
            "____________________________________________________________________________________________________\n",
            "Baltic Porter: 0.9999862296084235\n",
            "____________________________________________________________________________________________________\n",
            "American Brown Ale: 0.9999953729537925\n",
            "____________________________________________________________________________________________________\n",
            "Russian Imperial Stout: 0.9999945576696488\n",
            "____________________________________________________________________________________________________\n",
            "American Blonde Ale: 0.9999927679580194\n",
            "____________________________________________________________________________________________________\n",
            "Dubbel: 0.9999886477700637\n",
            "____________________________________________________________________________________________________\n",
            "Hefeweizen: 0.9999880300565167\n",
            "____________________________________________________________________________________________________\n",
            "Märzen / Oktoberfest: 0.9999807071987445\n",
            "____________________________________________________________________________________________________\n",
            "Extra Special / Strong Bitter (ESB): 0.9999803180929281\n",
            "____________________________________________________________________________________________________\n",
            "American Black Ale: 0.9999849653536926\n",
            "____________________________________________________________________________________________________\n",
            "Altbier: 0.9999727749573069\n",
            "____________________________________________________________________________________________________\n",
            "Schwarzbier: 0.9999584423151061\n",
            "____________________________________________________________________________________________________\n",
            "\n",
            "******************************************************************************************************************************************************\n",
            "Beer Style: Scottish Ale\n",
            "\n",
            "malt: 48, sweet: 43, caramel: 42, beer: 41, head: 40, light: 39, nice: 37, taste: 34, bit: 34, little: 31\n",
            "******************************************************************************************************************************************************\n",
            "Beer Style: American Brown Ale\n",
            "\n",
            "brown: 171, nice: 113, beer: 106, dark: 92, head: 83, taste: 78, light: 74, malt: 72, good: 69, sweet: 66\n",
            "______________________________________________________________________________________________________________________________________________________\n",
            "Beer Style: Bock\n",
            "\n",
            "nice: 52, dark: 52, sweet: 48, beer: 47, head: 44, good: 44, taste: 43, light: 41, bit: 37, malt: 37\n",
            "______________________________________________________________________________________________________________________________________________________\n",
            "Beer Style: Russian Imperial Stout\n",
            "\n",
            "dark: 347, chocolate: 206, roasted: 199, black: 197, head: 162, nice: 162, beer: 155, coffee: 154, taste: 143, alcohol: 142\n",
            "______________________________________________________________________________________________________________________________________________________\n",
            "Beer Style: Schwarzbier\n",
            "\n",
            "dark: 55, beer: 51, head: 41, nice: 40, black: 33, light: 33, good: 33, chocolate: 33, roasted: 32, malt: 32\n",
            "______________________________________________________________________________________________________________________________________________________\n",
            "Beer Style: Dubbel\n",
            "\n",
            "dark: 118, nice: 96, brown: 88, head: 80, sweet: 79, good: 71, beer: 70, taste: 70, alcohol: 62, carbonation: 58\n",
            "______________________________________________________________________________________________________________________________________________________\n",
            "Beer Style: Extra Special / Strong Bitter (ESB)\n",
            "\n",
            "nice: 83, beer: 75, good: 68, head: 54, malt: 54, taste: 49, hop: 48, caramel: 47, medium: 46, light: 44\n",
            "______________________________________________________________________________________________________________________________________________________\n",
            "Beer Style: American Blonde Ale\n",
            "\n",
            "light: 79, nice: 53, beer: 53, white: 52, head: 51, taste: 44, golden: 38, hop: 38, good: 36, hops: 36\n",
            "______________________________________________________________________________________________________________________________________________________\n",
            "Beer Style: American Black Ale\n",
            "\n",
            "dark: 83, nice: 83, black: 66, hops: 59, roasted: 56, hop: 50, bit: 49, head: 48, citrus: 46, malt: 46\n",
            "______________________________________________________________________________________________________________________________________________________\n",
            "Beer Style: Hefeweizen\n",
            "\n",
            "head: 119, wheat: 119, beer: 119, nice: 108, taste: 107, light: 103, banana: 99, good: 96, white: 87, bit: 67\n",
            "______________________________________________________________________________________________________________________________________________________\n",
            "Beer Style: Märzen / Oktoberfest\n",
            "\n",
            "sweet: 101, nice: 99, beer: 97, head: 97, good: 87, malt: 82, light: 80, taste: 77, bit: 72, pours: 63\n",
            "______________________________________________________________________________________________________________________________________________________\n",
            "Beer Style: Baltic Porter\n",
            "\n",
            "dark: 82, chocolate: 51, roasted: 47, taste: 45, nice: 42, beer: 41, head: 38, black: 36, brown: 35, sweet: 34\n",
            "______________________________________________________________________________________________________________________________________________________\n",
            "Beer Style: Altbier\n",
            "\n",
            "beer: 50, head: 39, good: 38, nice: 36, light: 36, taste: 33, sweet: 32, malt: 32, brown: 27, little: 26\n",
            "______________________________________________________________________________________________________________________________________________________\n"
          ]
        }
      ]
    },
    {
      "cell_type": "code",
      "source": [
        "sample_size = 500000\n",
        "\n",
        "input_json_lines_file = 'beeradvocate.jsonlines'\n",
        "output_file = 'sample_data.jsonl'\n",
        "\n",
        "def create_sample(input_file, output_file, sample_size):\n",
        "   with open(input_file, 'r') as read_file, open(output_file, 'w') as output:\n",
        "       lines = read_file.readlines()\n",
        "       random.shuffle(lines)\n",
        "       for line in lines[:sample_size]:\n",
        "           output.write(line)\n",
        "\n",
        "create_sample(input_json_lines_file, output_file, sample_size)\n",
        "\n",
        "data_bag = db.read_text('sample_data.jsonl', blocksize=\"1MB\")\n",
        "print(data_bag)"
      ],
      "metadata": {
        "id": "fznEM1TDBt6W",
        "colab": {
          "base_uri": "https://localhost:8080/"
        },
        "outputId": "51ecc42a-c7db-4c8b-a2e7-77d932cd9f89"
      },
      "execution_count": 17,
      "outputs": [
        {
          "output_type": "stream",
          "name": "stdout",
          "text": [
            "dask.bag<bag-from-delayed, npartitions=453>\n"
          ]
        }
      ]
    },
    {
      "cell_type": "code",
      "source": [
        "import math\n",
        "import time\n",
        "\n",
        "def extract_beer_style_and_rating(json_string):\n",
        "    data = json.loads(json_string)\n",
        "    beer_style = data.get(\"beer/style\")\n",
        "    # overall_rating = float(data.get(\"review/overall\", 0))\n",
        "    appearance = float(data.get(\"review/appearance\", 0))\n",
        "    aroma = float(data.get(\"review/aroma\", 0))\n",
        "    palate = float(data.get(\"review/palate\", 0))\n",
        "    taste = float(data.get(\"review/taste\", 0))\n",
        "\n",
        "    return (beer_style, appearance, aroma, palate, taste)\n",
        "\n",
        "def beer_style_vectors(text_file_bag):\n",
        "\n",
        "    beer_styles_and_ratings = text_file_bag.map(extract_beer_style_and_rating)\n",
        "    grouped_by_style = beer_styles_and_ratings.groupby(lambda x: x[0])\n",
        "    mean_vectors = grouped_by_style.map(lambda style_group: (style_group[0], np.mean([np.array(entry[1:]) for entry in style_group[1]], axis=0)))\n",
        "\n",
        "    return (mean_vectors)\n",
        "\n",
        "style_vectors = beer_style_vectors(data_bag)\n",
        "\n",
        "def cosine_similarity(u, v):\n",
        "    dot_product = (u * v).sum()\n",
        "    norm_u = math.sqrt((u * u).sum())\n",
        "    norm_v = math.sqrt((v * v).sum())\n",
        "    similarity = dot_product / (norm_u * norm_v)\n",
        "    return similarity\n",
        "\n",
        "def calculate_cosine_similarity(style_vectors):\n",
        "    combinations = style_vectors.product(style_vectors).filter(lambda x: x[0][0] != x[1][0])\n",
        "    similarities = combinations.map(lambda x: (x[0][0], x[1][0], cosine_similarity(x[0][1], x[1][1])))\n",
        "    grouped_similarities = similarities.groupby(lambda x: x[0])\n",
        "    top_5_per_style = grouped_similarities.map(lambda x: sorted(list(x[1]), key=lambda y: y[2], reverse=True)[:5])\n",
        "\n",
        "    return top_5_per_style\n",
        "\n",
        "start_time = time.time()\n",
        "similarities = calculate_cosine_similarity(style_vectors)\n",
        "calculate_cosine_similarity_total_time = time.time() - start_time\n",
        "\n",
        "print(\"Time taken to calculate_cosine_similarity:\", calculate_cosine_similarity_total_time, \"seconds\")"
      ],
      "metadata": {
        "id": "bYIaHO1sAAL9",
        "colab": {
          "base_uri": "https://localhost:8080/"
        },
        "outputId": "c042bd65-e454-4a58-cd3f-9aa44b2455d1"
      },
      "execution_count": 18,
      "outputs": [
        {
          "output_type": "stream",
          "name": "stdout",
          "text": [
            "Time taken to calculate_cosine_similarity: 5.011731386184692 seconds\n"
          ]
        }
      ]
    },
    {
      "cell_type": "code",
      "source": [
        "import json\n",
        "import dask.bag as db\n",
        "import time\n",
        "\n",
        "def extract_beer_style_and_rating(json_string):\n",
        "    data = json.loads(json_string)\n",
        "    beer_style = data.get(\"beer/style\")\n",
        "    taste = data.get(\"review/text\")\n",
        "    return beer_style, taste\n",
        "\n",
        "def stop_words(text):\n",
        "    words = text.lower().split()\n",
        "    filtered_words = [word for word in words if word not in STOP_WORDS and word.isalpha()]\n",
        "    return filtered_words\n",
        "\n",
        "def a_priori_step1(text_file_bag):\n",
        "    words = text_file_bag.map(stop_words)\n",
        "    flat_words = words.flatten()\n",
        "    word_frequencies = flat_words.frequencies()\n",
        "    return word_frequencies\n",
        "\n",
        "def beer_style_words(text_file_bag):\n",
        "    beer_styles_and_ratings = text_file_bag.map(extract_beer_style_and_rating)\n",
        "    grouped_by_style = beer_styles_and_ratings.groupby(lambda x: x[0])\n",
        "    concatenated_reviews = grouped_by_style.map(lambda style_group: (style_group[0], '\\n'.join([entry[1] for entry in style_group[1]])))\n",
        "    word_frequencies = concatenated_reviews.map(lambda kv: (kv[0], a_priori_step1(db.from_sequence([kv[1]]))))\n",
        "    top_10_words = word_frequencies.map(lambda kv: (kv[0], kv[1].topk(10, key=lambda x: x[1])))\n",
        "    return top_10_words\n",
        "\n",
        "start_time = time.time()\n",
        "styles_frequencies = beer_style_words(data_bag)\n",
        "beer_style_words_total_time = time.time() - start_time\n",
        "\n",
        "print(\"Time taken to run beer_style_words:\", beer_style_words_total_time, \"seconds\")\n"
      ],
      "metadata": {
        "id": "_w7Ai20FBN4U",
        "colab": {
          "base_uri": "https://localhost:8080/"
        },
        "outputId": "78f1c606-d6dd-42c3-9061-f8ce17dfdcf9"
      },
      "execution_count": 19,
      "outputs": [
        {
          "output_type": "stream",
          "name": "stdout",
          "text": [
            "Time taken to run beer_style_words: 0.014104604721069336 seconds\n"
          ]
        }
      ]
    },
    {
      "cell_type": "code",
      "source": [
        "import matplotlib.pyplot as plt\n",
        "\n",
        "sample_sizes = [10000, 100000, 250000, 500000]\n",
        "cosine_times = [ 0.002184152603149414, 0.0707845687866211, 1.65000581741333 , 4.997363090515137]\n",
        "\n",
        "plt.plot(sample_sizes, cosine_times, marker='o')\n",
        "plt.xlabel('Sample Sizes (lines)')\n",
        "plt.ylabel('Time (seconds)')\n",
        "plt.title('calculate_cosine_similarity')\n",
        "plt.grid(True)\n",
        "plt.show()\n"
      ],
      "metadata": {
        "id": "KPgZxJMIGm2j",
        "colab": {
          "base_uri": "https://localhost:8080/",
          "height": 492
        },
        "outputId": "b5d142c4-9d07-43df-9441-984bfe39300a"
      },
      "execution_count": 20,
      "outputs": [
        {
          "output_type": "display_data",
          "data": {
            "text/plain": [
              "<Figure size 640x480 with 1 Axes>"
            ],
            "image/png": "[encoded data removed]"
          },
          "metadata": {}
        }
      ]
    },
    {
      "cell_type": "code",
      "source": [
        "sample_sizes = [10000, 100000, 250000, 500000]\n",
        "cosine_times = [0.008031368255615234, 0.010660648345947266 , 0.01981806755065918, 0.021157264709472656]\n",
        "\n",
        "plt.plot(sample_sizes, cosine_times, marker='o')\n",
        "plt.xlabel('Sample Sizes (lines)')\n",
        "plt.ylabel('Time (seconds)')\n",
        "plt.title('beer_style_words')\n",
        "plt.grid(True)\n",
        "plt.show()"
      ],
      "metadata": {
        "id": "bAQcbf-uIC9n",
        "colab": {
          "base_uri": "https://localhost:8080/",
          "height": 492
        },
        "outputId": "ace5bdce-fd5b-463e-ab27-6b28e31e6479"
      },
      "execution_count": 21,
      "outputs": [
        {
          "output_type": "display_data",
          "data": {
            "text/plain": [
              "<Figure size 640x480 with 1 Axes>"
            ],
            "image/png": "[encoded data removed]"
          },
          "metadata": {}
        }
      ]
    }
  ],
  "metadata": {
    "colab": {
      "provenance": []
    },
    "kernelspec": {
      "display_name": "Python 3",
      "name": "python3"
    },
    "language_info": {
      "name": "python"
    }
  },
  "nbformat": 4,
  "nbformat_minor": 0
}